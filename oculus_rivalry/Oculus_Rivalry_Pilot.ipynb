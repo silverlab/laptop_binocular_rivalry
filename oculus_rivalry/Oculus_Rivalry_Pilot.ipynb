{
 "cells": [
  {
   "cell_type": "code",
   "execution_count": 1,
   "metadata": {},
   "outputs": [
    {
     "name": "stderr",
     "output_type": "stream",
     "text": [
      "\n",
      "Bad key savefig.frameon in file C:\\Users\\elawl\\anaconda3\\lib\\site-packages\\matplotlib\\mpl-data\\stylelib\\_classic_test.mplstyle, line 421 ('savefig.frameon : True')\n",
      "You probably need to get an updated matplotlibrc file from\n",
      "https://github.com/matplotlib/matplotlib/blob/v3.3.4/matplotlibrc.template\n",
      "or from the matplotlib source distribution\n",
      "\n",
      "Bad key verbose.level in file C:\\Users\\elawl\\anaconda3\\lib\\site-packages\\matplotlib\\mpl-data\\stylelib\\_classic_test.mplstyle, line 472 ('verbose.level  : silent      # one of silent, helpful, debug, debug-annoying')\n",
      "You probably need to get an updated matplotlibrc file from\n",
      "https://github.com/matplotlib/matplotlib/blob/v3.3.4/matplotlibrc.template\n",
      "or from the matplotlib source distribution\n",
      "\n",
      "Bad key verbose.fileo in file C:\\Users\\elawl\\anaconda3\\lib\\site-packages\\matplotlib\\mpl-data\\stylelib\\_classic_test.mplstyle, line 473 ('verbose.fileo  : sys.stdout  # a log filename, sys.stdout or sys.stderr')\n",
      "You probably need to get an updated matplotlibrc file from\n",
      "https://github.com/matplotlib/matplotlib/blob/v3.3.4/matplotlibrc.template\n",
      "or from the matplotlib source distribution\n",
      "In C:\\Users\\elawl\\anaconda3\\lib\\site-packages\\matplotlib\\mpl-data\\stylelib\\_classic_test.mplstyle: \n",
      "The text.latex.preview rcparam was deprecated in Matplotlib 3.3 and will be removed two minor releases later.\n",
      "In C:\\Users\\elawl\\anaconda3\\lib\\site-packages\\matplotlib\\mpl-data\\stylelib\\_classic_test.mplstyle: \n",
      "The mathtext.fallback_to_cm rcparam was deprecated in Matplotlib 3.3 and will be removed two minor releases later.\n",
      "In C:\\Users\\elawl\\anaconda3\\lib\\site-packages\\matplotlib\\mpl-data\\stylelib\\_classic_test.mplstyle: Support for setting the 'mathtext.fallback_to_cm' rcParam is deprecated since 3.3 and will be removed two minor releases later; use 'mathtext.fallback : 'cm' instead.\n",
      "In C:\\Users\\elawl\\anaconda3\\lib\\site-packages\\matplotlib\\mpl-data\\stylelib\\_classic_test.mplstyle: \n",
      "The validate_bool_maybe_none function was deprecated in Matplotlib 3.3 and will be removed two minor releases later.\n",
      "In C:\\Users\\elawl\\anaconda3\\lib\\site-packages\\matplotlib\\mpl-data\\stylelib\\_classic_test.mplstyle: \n",
      "The savefig.jpeg_quality rcparam was deprecated in Matplotlib 3.3 and will be removed two minor releases later.\n",
      "In C:\\Users\\elawl\\anaconda3\\lib\\site-packages\\matplotlib\\mpl-data\\stylelib\\_classic_test.mplstyle: \n",
      "The keymap.all_axes rcparam was deprecated in Matplotlib 3.3 and will be removed two minor releases later.\n",
      "In C:\\Users\\elawl\\anaconda3\\lib\\site-packages\\matplotlib\\mpl-data\\stylelib\\_classic_test.mplstyle: \n",
      "The animation.avconv_path rcparam was deprecated in Matplotlib 3.3 and will be removed two minor releases later.\n",
      "In C:\\Users\\elawl\\anaconda3\\lib\\site-packages\\matplotlib\\mpl-data\\stylelib\\_classic_test.mplstyle: \n",
      "The animation.avconv_args rcparam was deprecated in Matplotlib 3.3 and will be removed two minor releases later.\n"
     ]
    }
   ],
   "source": [
    "# Modules \n",
    "import collections\n",
    "import numpy as np\n",
    "import seaborn as sbn\n",
    "import matplotlib\n",
    "import matplotlib.style\n",
    "import matplotlib.pyplot as plt\n",
    "%matplotlib inline\n",
    "import os\n",
    "import pandas as pd\n",
    "import math\n",
    "import seaborn as sns\n",
    "\n",
    "import scipy.io\n",
    "import scipy.stats\n",
    "\n",
    "from IPython.display import HTML, display\n",
    "matplotlib.rcParams.update({'font.size':19})\n",
    "# matplotlib.style.use('bmh')\n"
   ]
  },
  {
   "cell_type": "code",
   "execution_count": 2,
   "metadata": {},
   "outputs": [
    {
     "name": "stdout",
     "output_type": "stream",
     "text": [
      "C:\\Users\\elawl\\Documents\\Silver_lab\\Oculus_Rivalry\\pilotData\n"
     ]
    }
   ],
   "source": [
    "cwd = os.getcwd()\n",
    "dataDir = os.path.join(cwd, 'pilotData')\n",
    "print(dataDir)"
   ]
  },
  {
   "cell_type": "code",
   "execution_count": 3,
   "metadata": {},
   "outputs": [],
   "source": [
    "fileName = \"Liz_test_July82020\"\n",
    "filenameToOpen = os.path.join(dataDir, fileName)\n",
    "\n",
    "importFromMat = scipy.io.loadmat(filenameToOpen)\n"
   ]
  },
  {
   "cell_type": "code",
   "execution_count": 4,
   "metadata": {},
   "outputs": [
    {
     "data": {
      "text/plain": [
       "4"
      ]
     },
     "execution_count": 4,
     "metadata": {},
     "output_type": "execute_result"
    }
   ],
   "source": [
    "len(importFromMat['responseArray']['responseTimes'][0])"
   ]
  },
  {
   "cell_type": "code",
   "execution_count": 5,
   "metadata": {},
   "outputs": [
    {
     "data": {
      "text/plain": [
       "4"
      ]
     },
     "execution_count": 5,
     "metadata": {},
     "output_type": "execute_result"
    }
   ],
   "source": [
    "len(importFromMat['responseArray']['responseKeyboardEvent'][0])"
   ]
  },
  {
   "cell_type": "code",
   "execution_count": 6,
   "metadata": {},
   "outputs": [],
   "source": [
    "# Declare known variables\n",
    "trialLength = 100 #seconds\n",
    "numOfTrials = 4"
   ]
  },
  {
   "cell_type": "code",
   "execution_count": 7,
   "metadata": {},
   "outputs": [
    {
     "data": {
      "text/plain": [
       "1"
      ]
     },
     "execution_count": 7,
     "metadata": {},
     "output_type": "execute_result"
    }
   ],
   "source": [
    "len(importFromMat['responseArray']['responseKeyboardEvent'][0][0])"
   ]
  },
  {
   "cell_type": "code",
   "execution_count": 8,
   "metadata": {},
   "outputs": [
    {
     "data": {
      "text/plain": [
       "71"
      ]
     },
     "execution_count": 8,
     "metadata": {},
     "output_type": "execute_result"
    }
   ],
   "source": [
    "trialIdx = 3\n",
    "len(importFromMat['responseArray']['responseKeyboardEvent'][0][trialIdx][0])\n",
    "# note the need to pad with 0s"
   ]
  },
  {
   "cell_type": "code",
   "execution_count": 9,
   "metadata": {},
   "outputs": [],
   "source": [
    "responseTimes = importFromMat['responseArray']['responseTimes'][0]\n",
    "responseEvents = importFromMat['responseArray']['responseKeyboardEvent'][0]"
   ]
  },
  {
   "cell_type": "code",
   "execution_count": 10,
   "metadata": {},
   "outputs": [
    {
     "name": "stdout",
     "output_type": "stream",
     "text": [
      "70 70\n",
      "73 73\n",
      "68 68\n",
      "71 71\n"
     ]
    }
   ],
   "source": [
    "someMetric = []\n",
    "\n",
    "index_45 = [0, 2]\n",
    "index_135 = [1, 3]\n",
    "for i in range(numOfTrials):\n",
    "    thisTrialTimes = responseTimes[i][0]\n",
    "    thisTrialEvents = responseEvents[i][0]\n",
    "    print(len(thisTrialTimes), len(thisTrialEvents))"
   ]
  },
  {
   "cell_type": "code",
   "execution_count": 11,
   "metadata": {
    "scrolled": true
   },
   "outputs": [
    {
     "data": {
      "text/plain": [
       "array([ 1,  2,  3,  4,  1,  2,  1,  2,  1,  2,  1,  2,  1,  2,  3,  4,  1,\n",
       "        2,  1,  2,  1,  2,  3,  4,  1,  2,  1,  2,  3,  4,  1,  2,  1,  2,\n",
       "        1,  2,  3,  4,  1,  2,  3,  4,  1,  2,  3,  4,  1,  2,  3,  4,  1,\n",
       "        2,  1,  2,  1,  2,  1,  2,  1,  2,  3,  4,  1,  2,  3,  4,  1,  2,\n",
       "        3,  4,  1,  2, 99], dtype=uint8)"
      ]
     },
     "execution_count": 11,
     "metadata": {},
     "output_type": "execute_result"
    }
   ],
   "source": [
    "responseEvents[1][0]"
   ]
  },
  {
   "cell_type": "code",
   "execution_count": 12,
   "metadata": {},
   "outputs": [],
   "source": [
    "\n",
    "# leftDuration\n",
    "# rightDuration\n",
    "# mixedDuration\n",
    "# leftTimeWindows = [] # 2xn first row start; second row end\n",
    "# rightTimeWindows # 2xn first row start; second row end"
   ]
  },
  {
   "cell_type": "markdown",
   "metadata": {},
   "source": [
    "## By orientation grating "
   ]
  },
  {
   "cell_type": "code",
   "execution_count": 13,
   "metadata": {},
   "outputs": [
    {
     "name": "stdout",
     "output_type": "stream",
     "text": [
      "0\n",
      "Using default trial length\n",
      "end of trial?\n",
      "1\n",
      "end of trial?\n",
      "2\n",
      "Using default trial length\n",
      "end of trial?\n",
      "3\n",
      "end of trial?\n"
     ]
    }
   ],
   "source": [
    "noResponseDuration = []\n",
    "endTrialTime = 100.0\n",
    "\n",
    "leftDurations = []\n",
    "rightDurations = []\n",
    "\n",
    "leftEyeD = []\n",
    "rightEyeD = [] \n",
    "\n",
    "for i in range(numOfTrials):\n",
    "    print(i)\n",
    "    \n",
    "    if i == 0 or i == 3:\n",
    "        # 45 is in the left eye (i.e. right orientation in left eye)\n",
    "        case = 0 \n",
    "    elif i == 1 or i == 4:\n",
    "        # left orientation is in the left eye \n",
    "        case = 1\n",
    "    thisTrialTimes = responseTimes[i][0]\n",
    "    thisTrialEvents = responseEvents[i][0]\n",
    "    \n",
    "    downEvents = [1, 3]\n",
    "    numEvents = len(thisTrialEvents)\n",
    "    keyDurA = np.zeros((numEvents, len(downEvents)))\n",
    "    \n",
    "    for eventIn in range(len(thisTrialEvents)):\n",
    "        if thisTrialEvents[eventIn] == 99:\n",
    "            print('end of trial?')\n",
    "        else:\n",
    "            event = thisTrialEvents[eventIn]\n",
    "            time1 = thisTrialTimes[eventIn]\n",
    "            \n",
    "            if event in downEvents:\n",
    "                if event == 1: # LEFT key\n",
    "                    upKey = 2\n",
    "                    \n",
    "                elif event == 3: # RIGHT key\n",
    "                    upKey = 4\n",
    "                else:\n",
    "                    upKey = 6\n",
    "                    print(event, 'Down key not found...')\n",
    "                    print(event)\n",
    "                        \n",
    "#                     if 'time2' in locals() and time2 < time1:\n",
    "#                         noResponseDuration = time1 - time2\n",
    "#                         noResponseDur.append(noResponseDuration)\n",
    "#                         print('time2: ', time2, 'time1: ', time1, 'time1 by KT:', kt[eventIn], 'event index:', eventIn, 'tempKT: ', tempKt)\n",
    "\n",
    "                foundUpKey = 0 # False\n",
    "                tempKt = np.array(thisTrialTimes)\n",
    "                tempTimes = tempKt[np.where(tempKt>time1)]\n",
    "                tempEvents = np.array(thisTrialEvents)\n",
    "                tempEvents = tempEvents[np.where(tempKt>time1)]\n",
    "                tempNumEvents = len(tempTimes)\n",
    "                for j in range(tempNumEvents):#range(numEvents):\n",
    "\n",
    "                    if tempEvents[j] == upKey:\n",
    "                        time2 = tempTimes[j]\n",
    "                        foundUpKey = 1\n",
    "                        break\n",
    "\n",
    "\n",
    "                        # time 2 will be the start of the blank duration\n",
    "                        blankStart = time2\n",
    "                        if blankStart < 100.0:\n",
    "                            blankEnd = tempTimes[j+1]\n",
    "                            if blankEnd < 100.0:\n",
    "                                noResponseD = blankEnd - blankStart\n",
    "                                noResponseDuration.append(noResponseD)\n",
    "                                print(tempTimes[j+1])\n",
    "\n",
    "\n",
    "\n",
    "                if foundUpKey == 0:\n",
    "\n",
    "                    if thisTrialTimes[-1] == 99: # and usingFullTrialDuration\n",
    "                        time2 = thisTrialTimes[-1] # end of the key times\n",
    "                    else:\n",
    "                        time2 = endTrialTime\n",
    "                        print('Using default trial length')\n",
    "\n",
    "                keyDur = time2 - time1 #keyDur[eventIn] \n",
    "                keyDurA[eventIn, int((upKey/2)-1)] = time2 - time1\n",
    "                \n",
    "    leftDurations.extend(keyDurA[:, 0])\n",
    "    rightDurations.extend(keyDurA[:,1])\n",
    "    \n",
    "    if case == 0:\n",
    "        leftEyeD.extend(keyDurA[:, 1])\n",
    "        rightEyeD.extend(keyDurA[:, 0])\n",
    "    elif case == 1:\n",
    "        leftEyeD.extend(keyDurA[:, 0])\n",
    "        rightEyeD.extend(keyDurA[:, 1])\n"
   ]
  },
  {
   "cell_type": "code",
   "execution_count": 14,
   "metadata": {},
   "outputs": [],
   "source": [
    "fileName = \"liz_05contrast_run1_OculusRivalry_15Sep2020.mat\"\n",
    "filenameToOpen = os.path.join(dataDir, fileName)\n",
    "\n",
    "importFromMat = scipy.io.loadmat(filenameToOpen)\n"
   ]
  },
  {
   "cell_type": "code",
   "execution_count": 15,
   "metadata": {},
   "outputs": [],
   "source": [
    "responseTimes = importFromMat['responseArray']['responseTimes'][0]\n",
    "responseEvents = importFromMat['responseArray']['responseKeyboardEvent'][0]"
   ]
  },
  {
   "cell_type": "code",
   "execution_count": 16,
   "metadata": {},
   "outputs": [
    {
     "name": "stdout",
     "output_type": "stream",
     "text": [
      "78 78\n",
      "101 101\n",
      "67 67\n",
      "39 39\n"
     ]
    }
   ],
   "source": [
    "someMetric = []\n",
    "\n",
    "index_45 = [0, 2]\n",
    "index_135 = [1, 3]\n",
    "for i in range(numOfTrials):\n",
    "    thisTrialTimes = responseTimes[i][0]\n",
    "    thisTrialEvents = responseEvents[i][0]\n",
    "    print(len(thisTrialTimes), len(thisTrialEvents))"
   ]
  },
  {
   "cell_type": "code",
   "execution_count": 17,
   "metadata": {
    "scrolled": true
   },
   "outputs": [
    {
     "data": {
      "text/plain": [
       "array([ 1,  2,  3,  4,  1,  2,  3,  4,  1,  2,  3,  4,  1,  2,  3,  4,  1,\n",
       "        2,  3,  4,  1,  2,  3,  4,  1,  2,  1,  2,  1,  2,  3,  4,  1,  2,\n",
       "        3,  4,  1,  2,  3,  4,  1,  2,  1,  2,  3,  4,  1,  2,  1,  2,  3,\n",
       "        4,  1,  2,  3,  4,  3,  4,  1,  2,  3,  4,  1,  2,  3,  4,  1,  2,\n",
       "        3,  4,  1,  2,  3,  4,  1,  2,  3,  4,  1,  2,  3,  4,  1,  2,  3,\n",
       "        4,  1,  2,  1,  2,  3,  4,  1,  2,  3,  4,  1,  2,  3,  4, 99],\n",
       "      dtype=uint8)"
      ]
     },
     "execution_count": 17,
     "metadata": {},
     "output_type": "execute_result"
    }
   ],
   "source": [
    "responseEvents[1][0]"
   ]
  },
  {
   "cell_type": "markdown",
   "metadata": {},
   "source": [
    "## By orientation grating "
   ]
  },
  {
   "cell_type": "code",
   "execution_count": 18,
   "metadata": {},
   "outputs": [
    {
     "name": "stdout",
     "output_type": "stream",
     "text": [
      "0\n",
      "Using default trial length\n",
      "end of trial?\n",
      "1\n",
      "end of trial?\n",
      "2\n",
      "end of trial?\n",
      "3\n",
      "end of trial?\n"
     ]
    }
   ],
   "source": [
    "\n",
    "endTrialTime = 100.0\n",
    "\n",
    "\n",
    "for i in range(numOfTrials):\n",
    "    print(i)\n",
    "    \n",
    "    if i == 0 or i == 3:\n",
    "        # 45 is in the left eye (i.e. right orientation in left eye)\n",
    "        case = 0 \n",
    "    elif i == 1 or i == 4:\n",
    "        # left orientation is in the left eye \n",
    "        case = 1\n",
    "    thisTrialTimes = responseTimes[i][0]\n",
    "    thisTrialEvents = responseEvents[i][0]\n",
    "    \n",
    "    downEvents = [1, 3]\n",
    "    numEvents = len(thisTrialEvents)\n",
    "    keyDurA = np.zeros((numEvents, len(downEvents)))\n",
    "    \n",
    "    for eventIn in range(len(thisTrialEvents)):\n",
    "        if thisTrialEvents[eventIn] == 99:\n",
    "            print('end of trial?')\n",
    "        else:\n",
    "            event = thisTrialEvents[eventIn]\n",
    "            time1 = thisTrialTimes[eventIn]\n",
    "            \n",
    "            if event in downEvents:\n",
    "                if event == 1: # LEFT key\n",
    "                    upKey = 2\n",
    "                    \n",
    "                elif event == 3: # RIGHT key\n",
    "                    upKey = 4\n",
    "                else:\n",
    "                    upKey = 6\n",
    "                    print(event, 'Down key not found...')\n",
    "                    print(event)\n",
    "                        \n",
    "#                     if 'time2' in locals() and time2 < time1:\n",
    "#                         noResponseDuration = time1 - time2\n",
    "#                         noResponseDur.append(noResponseDuration)\n",
    "#                         print('time2: ', time2, 'time1: ', time1, 'time1 by KT:', kt[eventIn], 'event index:', eventIn, 'tempKT: ', tempKt)\n",
    "\n",
    "                foundUpKey = 0 # False\n",
    "                tempKt = np.array(thisTrialTimes)\n",
    "                tempTimes = tempKt[np.where(tempKt>time1)]\n",
    "                tempEvents = np.array(thisTrialEvents)\n",
    "                tempEvents = tempEvents[np.where(tempKt>time1)]\n",
    "                tempNumEvents = len(tempTimes)\n",
    "                for j in range(tempNumEvents):#range(numEvents):\n",
    "\n",
    "                    if tempEvents[j] == upKey:\n",
    "                        time2 = tempTimes[j]\n",
    "                        foundUpKey = 1\n",
    "                        break\n",
    "\n",
    "\n",
    "                        # time 2 will be the start of the blank duration\n",
    "                        blankStart = time2\n",
    "                        if blankStart < 100.0:\n",
    "                            blankEnd = tempTimes[j+1]\n",
    "                            if blankEnd < 100.0:\n",
    "                                noResponseD = blankEnd - blankStart\n",
    "                                noResponseDuration.append(noResponseD)\n",
    "                                print(tempTimes[j+1])\n",
    "\n",
    "\n",
    "\n",
    "                if foundUpKey == 0:\n",
    "\n",
    "                    if thisTrialTimes[-1] == 99: # and usingFullTrialDuration\n",
    "                        time2 = thisTrialTimes[-1] # end of the key times\n",
    "                    else:\n",
    "                        time2 = endTrialTime\n",
    "                        print('Using default trial length')\n",
    "\n",
    "                keyDur = time2 - time1 #keyDur[eventIn] \n",
    "                keyDurA[eventIn, int((upKey/2)-1)] = time2 - time1\n",
    "                \n",
    "    leftDurations.extend(keyDurA[:, 0])\n",
    "    rightDurations.extend(keyDurA[:,1])\n",
    "    \n",
    "    if case == 0:\n",
    "        leftEyeD.extend(keyDurA[:, 1])\n",
    "        rightEyeD.extend(keyDurA[:, 0])\n",
    "    elif case == 1:\n",
    "        leftEyeD.extend(keyDurA[:, 0])\n",
    "        rightEyeD.extend(keyDurA[:, 1])\n"
   ]
  },
  {
   "cell_type": "code",
   "execution_count": 19,
   "metadata": {},
   "outputs": [
    {
     "data": {
      "text/plain": [
       "[1.1759444000000006,\n",
       " 0.0,\n",
       " 0.0,\n",
       " 0.0,\n",
       " 0.2827278,\n",
       " 0.0,\n",
       " 1.2335288999999996,\n",
       " 0.0,\n",
       " 0.0,\n",
       " 0.0,\n",
       " 1.2083285000000004,\n",
       " 0.0,\n",
       " 0.0,\n",
       " 0.0,\n",
       " 0.5200527000000008,\n",
       " 0.0,\n",
       " 1.3779980999999992,\n",
       " 0.0,\n",
       " 0.0,\n",
       " 0.0,\n",
       " 2.7157680000000006,\n",
       " 0.0,\n",
       " 0.0,\n",
       " 0.0,\n",
       " 0.0,\n",
       " 0.0,\n",
       " 1.0454221999999973,\n",
       " 0.0,\n",
       " 0.0,\n",
       " 0.0,\n",
       " 0.8684529999999953,\n",
       " 0.0,\n",
       " 0.0,\n",
       " 0.0,\n",
       " 0.0,\n",
       " 0.0,\n",
       " 0.9969846999999987,\n",
       " 0.0,\n",
       " 0.0,\n",
       " 0.0,\n",
       " 1.4451065999999955,\n",
       " 0.0,\n",
       " 0.0,\n",
       " 0.0,\n",
       " 1.3528656000000012,\n",
       " 0.0,\n",
       " 0.0,\n",
       " 0.0,\n",
       " 0.0,\n",
       " 0.0,\n",
       " 0.0,\n",
       " 0.0,\n",
       " 0.0,\n",
       " 0.0,\n",
       " 1.0898473999999965,\n",
       " 0.0,\n",
       " 0.0,\n",
       " 0.0,\n",
       " 1.6557332000000002,\n",
       " 0.0,\n",
       " 0.15564520000000925,\n",
       " 0.0,\n",
       " 0.0,\n",
       " 0.0,\n",
       " 1.4383255000000048,\n",
       " 0.0,\n",
       " 0.0,\n",
       " 0.0,\n",
       " 0.0,\n",
       " 0.0,\n",
       " 2.2319986000000003,\n",
       " 0.0,\n",
       " 0.0,\n",
       " 0.0,\n",
       " 1.4570448000000003,\n",
       " 0.0,\n",
       " 0.9382214000000015,\n",
       " 0.0,\n",
       " 1.3028379,\n",
       " 0.0,\n",
       " 0.5106248999999998,\n",
       " 0.0,\n",
       " 0.5199762999999997,\n",
       " 0.0,\n",
       " 0.0,\n",
       " 0.0,\n",
       " 1.1857505999999987,\n",
       " 0.0,\n",
       " 1.9384325000000011,\n",
       " 0.0,\n",
       " 0.2085585000000023,\n",
       " 0.0,\n",
       " 0.0,\n",
       " 0.0,\n",
       " 1.7833328999999978,\n",
       " 0.0,\n",
       " 0.42477329999999824,\n",
       " 0.0,\n",
       " 0.0,\n",
       " 0.0,\n",
       " 1.5812673000000004,\n",
       " 0.0,\n",
       " 0.7391171000000014,\n",
       " 0.0,\n",
       " 0.843268099999996,\n",
       " 0.0,\n",
       " 0.0,\n",
       " 0.0,\n",
       " 1.1697928000000033,\n",
       " 0.0,\n",
       " 0.0,\n",
       " 0.0,\n",
       " 0.23811110000000468,\n",
       " 0.0,\n",
       " 0.0,\n",
       " 0.0,\n",
       " 1.5645827000000025,\n",
       " 0.0,\n",
       " 0.0,\n",
       " 0.0,\n",
       " 0.3548236999999972,\n",
       " 0.0,\n",
       " 0.06234969999999862,\n",
       " 0.0,\n",
       " 2.3997169999999954,\n",
       " 0.0,\n",
       " 0.8535018999999977,\n",
       " 0.0,\n",
       " 0.27236990000000105,\n",
       " 0.0,\n",
       " 0.0,\n",
       " 0.0,\n",
       " 0.7056544000000002,\n",
       " 0.0,\n",
       " 0.0,\n",
       " 0.0,\n",
       " 3.5137352999999933,\n",
       " 0.0,\n",
       " 0.0,\n",
       " 0.0,\n",
       " 0.9675489999999911,\n",
       " 0.0,\n",
       " 0.0,\n",
       " 2.0210148,\n",
       " 0.0,\n",
       " 0.0,\n",
       " 0.0,\n",
       " 0.6435482999999991,\n",
       " 0.0,\n",
       " 0.0,\n",
       " 0.0,\n",
       " 1.3043847,\n",
       " 0.0,\n",
       " 0.0,\n",
       " 0.0,\n",
       " 0.6865846000000033,\n",
       " 0.0,\n",
       " 0.0,\n",
       " 0.0,\n",
       " 0.0,\n",
       " 0.0,\n",
       " 0.0,\n",
       " 0.0,\n",
       " 0.9910330999999992,\n",
       " 0.0,\n",
       " 0.9809573,\n",
       " 0.0,\n",
       " 0.21797109999999975,\n",
       " 0.0,\n",
       " 0.3530910999999932,\n",
       " 0.0,\n",
       " 0.0,\n",
       " 0.0,\n",
       " 0.6359831000000042,\n",
       " 0.0,\n",
       " 0.0,\n",
       " 0.0,\n",
       " 1.7117708999999977,\n",
       " 0.0,\n",
       " 0.5301752999999962,\n",
       " 0.0,\n",
       " 0.0,\n",
       " 0.0,\n",
       " 0.0,\n",
       " 0.0,\n",
       " 1.3231608999999978,\n",
       " 0.0,\n",
       " 0.0,\n",
       " 0.0,\n",
       " 1.4252110999999985,\n",
       " 0.0,\n",
       " 0.8549062000000021,\n",
       " 0.0,\n",
       " 0.0,\n",
       " 0.0,\n",
       " 0.0,\n",
       " 0.0,\n",
       " 0.0,\n",
       " 0.0,\n",
       " 0.7720407000000051,\n",
       " 0.0,\n",
       " 0.0,\n",
       " 0.0,\n",
       " 2.0029629,\n",
       " 0.0,\n",
       " 0.0,\n",
       " 0.0,\n",
       " 0.0,\n",
       " 0.0,\n",
       " 2.998079599999997,\n",
       " 0.0,\n",
       " 2.5127170000000003,\n",
       " 0.0,\n",
       " 1.6357648999999999,\n",
       " 0.0,\n",
       " 0.0,\n",
       " 0.0,\n",
       " 0.40897580000000033,\n",
       " 0.0,\n",
       " 1.4178306000000003,\n",
       " 0.0,\n",
       " 0.11376440000000088,\n",
       " 0.0,\n",
       " 1.1167614000000015,\n",
       " 0.0,\n",
       " 0.0,\n",
       " 0.0,\n",
       " 0.34677279999999655,\n",
       " 0.0,\n",
       " 0.0,\n",
       " 0.0,\n",
       " 2.104727799999999,\n",
       " 0.0,\n",
       " 0.0,\n",
       " 0.0,\n",
       " 5.070954499999999,\n",
       " 0.0,\n",
       " 0.0,\n",
       " 0.0,\n",
       " 0.0,\n",
       " 0.0,\n",
       " 2.280762799999998,\n",
       " 0.0,\n",
       " 0.0,\n",
       " 0.0,\n",
       " 1.9034320000000022,\n",
       " 0.0,\n",
       " 0.0,\n",
       " 0.0,\n",
       " 0.0,\n",
       " 0.0,\n",
       " 1.2082285999999982,\n",
       " 0.0,\n",
       " 1.203771500000002,\n",
       " 0.0,\n",
       " 1.0016716999999957,\n",
       " 0.0,\n",
       " 1.209739600000006,\n",
       " 0.0,\n",
       " 0.0,\n",
       " 0.0,\n",
       " 1.4984149000000002,\n",
       " 0.0,\n",
       " 0.0,\n",
       " 0.0,\n",
       " 2.4979399000000058,\n",
       " 0.0,\n",
       " 0.0,\n",
       " 0.0,\n",
       " 0.0,\n",
       " 0.0,\n",
       " 0.0,\n",
       " 0.0,\n",
       " 1.9351350999999966,\n",
       " 0.0,\n",
       " 0.0,\n",
       " 0.0,\n",
       " 1.8294178999999957,\n",
       " 0.0,\n",
       " 1.290385200000003,\n",
       " 0.0,\n",
       " 0.0,\n",
       " 0.8112770000000005,\n",
       " 0.0,\n",
       " 0.0,\n",
       " 0.0,\n",
       " 0.6945157999999996,\n",
       " 0.0,\n",
       " 0.0,\n",
       " 0.0,\n",
       " 0.0,\n",
       " 0.0,\n",
       " 0.0,\n",
       " 0.0,\n",
       " 1.0119694999999993,\n",
       " 0.0,\n",
       " 0.937978600000001,\n",
       " 0.0,\n",
       " 0.0,\n",
       " 0.0,\n",
       " 0.0,\n",
       " 0.0,\n",
       " 0.5834705000000007,\n",
       " 0.0,\n",
       " 0.5945719999999994,\n",
       " 0.0,\n",
       " 0.0,\n",
       " 0.0,\n",
       " 0.0,\n",
       " 0.0,\n",
       " 0.6358426999999978,\n",
       " 0.0,\n",
       " 0.0,\n",
       " 0.0,\n",
       " 0.0,\n",
       " 0.0,\n",
       " 1.7965797999999964,\n",
       " 0.0,\n",
       " 1.6854204999999993,\n",
       " 0.0,\n",
       " 0.5218279999999993,\n",
       " 0.0,\n",
       " 0.0,\n",
       " 0.0,\n",
       " 0.8945721000000049,\n",
       " 0.0,\n",
       " 0.0,\n",
       " 0.0,\n",
       " 0.0,\n",
       " 0.0,\n",
       " 0.0,\n",
       " 0.0,\n",
       " 0.0,\n",
       " 0.0,\n",
       " 2.021260500000011,\n",
       " 0.0,\n",
       " 0.44436699999999973,\n",
       " 0.0,\n",
       " 0.0,\n",
       " 0.0,\n",
       " 1.0376693000000046,\n",
       " 0.0,\n",
       " 0.0,\n",
       " 0.0,\n",
       " 0.6781730999999951,\n",
       " 0.0,\n",
       " 0.0,\n",
       " 0.0,\n",
       " 0.0,\n",
       " 0.0,\n",
       " 1.0796564999999987,\n",
       " 0.0,\n",
       " 0.0,\n",
       " 0.0,\n",
       " 1.2215216000000026,\n",
       " 0.0,\n",
       " 0.0,\n",
       " 0.0,\n",
       " 1.1601169000000056,\n",
       " 0.0,\n",
       " 1.8301813000000005,\n",
       " 0.0,\n",
       " 0.0,\n",
       " 0.0,\n",
       " 0.4545438000000006,\n",
       " 0.0,\n",
       " 0.0,\n",
       " 0.0,\n",
       " 0.9459473000000003,\n",
       " 0.0,\n",
       " 0.0,\n",
       " 0.0,\n",
       " 0.4044460000000001,\n",
       " 0.0,\n",
       " 0.0,\n",
       " 0.0,\n",
       " 2.3942899000000004,\n",
       " 0.0,\n",
       " 0.0,\n",
       " 0.0,\n",
       " 1.4216204999999995,\n",
       " 0.0,\n",
       " 0.0,\n",
       " 0.0,\n",
       " 0.847892899999998,\n",
       " 0.0,\n",
       " 0.5075828999999992,\n",
       " 0.0,\n",
       " 0.19737710000000064,\n",
       " 0.0,\n",
       " 0.0,\n",
       " 0.0,\n",
       " 1.1375987999999992,\n",
       " 0.0,\n",
       " 0.0,\n",
       " 0.0,\n",
       " 0.9806444000000027,\n",
       " 0.0,\n",
       " 0.0,\n",
       " 0.0,\n",
       " 0.9175923000000026,\n",
       " 0.0,\n",
       " 1.7078451000000001,\n",
       " 0.0,\n",
       " 0.0,\n",
       " 0.0,\n",
       " 0.3233592999999999,\n",
       " 0.0,\n",
       " 0.8096300999999997,\n",
       " 0.0,\n",
       " 0.0,\n",
       " 0.0,\n",
       " 2.151797800000004,\n",
       " 0.0,\n",
       " 0.0,\n",
       " 0.0,\n",
       " 0.0,\n",
       " 0.0,\n",
       " 1.026879600000001,\n",
       " 0.0,\n",
       " 0.0,\n",
       " 0.0,\n",
       " 1.7609285000000057,\n",
       " 0.0,\n",
       " 0.0,\n",
       " 0.0,\n",
       " 0.9465280000000007,\n",
       " 0.0,\n",
       " 0.0,\n",
       " 0.0,\n",
       " 0.42717370000001154,\n",
       " 0.0,\n",
       " 0.0,\n",
       " 0.0,\n",
       " 0.6570916000000011,\n",
       " 0.0,\n",
       " 0.0,\n",
       " 0.0,\n",
       " 0.683335900000003,\n",
       " 0.0,\n",
       " 0.0,\n",
       " 0.0,\n",
       " 0.15531369999999356,\n",
       " 0.0,\n",
       " 0.0,\n",
       " 0.0,\n",
       " 1.218199399999989,\n",
       " 0.0,\n",
       " 0.3334782999999959,\n",
       " 0.0,\n",
       " 0.0,\n",
       " 0.0,\n",
       " 0.7469878999999935,\n",
       " 0.0,\n",
       " 0.0,\n",
       " 0.0,\n",
       " 1.8285068999999936,\n",
       " 0.0,\n",
       " 0.0,\n",
       " 0.0,\n",
       " 0.0,\n",
       " 1.3320354,\n",
       " 0.0,\n",
       " 0.0,\n",
       " 0.0,\n",
       " 0.0,\n",
       " 0.0,\n",
       " 0.19833290000000048,\n",
       " 0.0,\n",
       " 1.4436912,\n",
       " 0.0,\n",
       " 0.0,\n",
       " 0.0,\n",
       " 1.3794108999999999,\n",
       " 0.0,\n",
       " 0.0,\n",
       " 0.0,\n",
       " 2.3540708000000024,\n",
       " 0.0,\n",
       " 0.0,\n",
       " 0.0,\n",
       " 0.0,\n",
       " 0.0,\n",
       " 0.0,\n",
       " 0.0,\n",
       " 4.677365399999999,\n",
       " 0.0,\n",
       " 0.0,\n",
       " 0.0,\n",
       " 0.48859910000000184,\n",
       " 0.0,\n",
       " 0.0,\n",
       " 0.0,\n",
       " 1.148227999999996,\n",
       " 0.0,\n",
       " 0.0,\n",
       " 0.0,\n",
       " 4.6578831999999935,\n",
       " 0.0,\n",
       " 0.0,\n",
       " 0.0,\n",
       " 2.9198820999999953,\n",
       " 0.0,\n",
       " 0.0,\n",
       " 0.0,\n",
       " 0.3222681000000023,\n",
       " 0.0,\n",
       " 0.7638409000000053,\n",
       " 0.0,\n",
       " 0.12520759999999598,\n",
       " 0.0,\n",
       " 0.0,\n",
       " 0.0,\n",
       " 0.6441477999999989,\n",
       " 0.0,\n",
       " 0.0,\n",
       " 0.0,\n",
       " 0.29146419999999296,\n",
       " 0.0,\n",
       " 1.1460385999999971,\n",
       " 0.0,\n",
       " 0.0,\n",
       " 0.0,\n",
       " 2.3782740000000047,\n",
       " 0.0,\n",
       " 0.0,\n",
       " 0.0,\n",
       " 0.0,\n",
       " 0.0,\n",
       " 0.0,\n",
       " 3.7766249000000007,\n",
       " 0.0,\n",
       " 0.0,\n",
       " 0.0,\n",
       " 0.624830799999998,\n",
       " 0.0,\n",
       " 0.32144620000000046,\n",
       " 0.0,\n",
       " 0.0,\n",
       " 0.0,\n",
       " 0.0,\n",
       " 0.0,\n",
       " 5.938469599999998,\n",
       " 0.0,\n",
       " 0.0,\n",
       " 0.0,\n",
       " 1.9492626000000044,\n",
       " 0.0,\n",
       " 0.0,\n",
       " 0.0,\n",
       " 2.5922257,\n",
       " 0.0,\n",
       " 0.0,\n",
       " 0.0,\n",
       " 0.36391569999999973,\n",
       " 0.0,\n",
       " 2.8442380999999983,\n",
       " 0.0,\n",
       " 0.0,\n",
       " 0.0,\n",
       " 1.1752899999999968,\n",
       " 0.0,\n",
       " 0.0,\n",
       " 0.0,\n",
       " 0.0,\n",
       " 0.0,\n",
       " 0.0]"
      ]
     },
     "execution_count": 19,
     "metadata": {},
     "output_type": "execute_result"
    }
   ],
   "source": [
    "leftDurations"
   ]
  },
  {
   "cell_type": "code",
   "execution_count": 20,
   "metadata": {},
   "outputs": [
    {
     "data": {
      "text/plain": [
       "array([[0.       , 2.6761568],\n",
       "       [0.       , 0.       ],\n",
       "       [3.7766249, 0.       ],\n",
       "       [0.       , 0.       ],\n",
       "       [0.       , 4.9078274],\n",
       "       [0.       , 0.       ],\n",
       "       [0.6248308, 0.       ],\n",
       "       [0.       , 0.       ],\n",
       "       [0.3214462, 0.       ],\n",
       "       [0.       , 0.       ],\n",
       "       [0.       , 1.2585795],\n",
       "       [0.       , 0.       ],\n",
       "       [0.       , 1.595943 ],\n",
       "       [0.       , 0.       ],\n",
       "       [5.9384696, 0.       ],\n",
       "       [0.       , 0.       ],\n",
       "       [0.       , 3.1696716],\n",
       "       [0.       , 0.       ],\n",
       "       [1.9492626, 0.       ],\n",
       "       [0.       , 0.       ],\n",
       "       [0.       , 1.3249097],\n",
       "       [0.       , 0.       ],\n",
       "       [2.5922257, 0.       ],\n",
       "       [0.       , 0.       ],\n",
       "       [0.       , 5.2940309],\n",
       "       [0.       , 0.       ],\n",
       "       [0.3639157, 0.       ],\n",
       "       [0.       , 0.       ],\n",
       "       [2.8442381, 0.       ],\n",
       "       [0.       , 0.       ],\n",
       "       [0.       , 2.0945704],\n",
       "       [0.       , 0.       ],\n",
       "       [1.17529  , 0.       ],\n",
       "       [0.       , 0.       ],\n",
       "       [0.       , 1.3726484],\n",
       "       [0.       , 0.       ],\n",
       "       [0.       , 0.3211898],\n",
       "       [0.       , 0.       ],\n",
       "       [0.       , 0.       ]])"
      ]
     },
     "execution_count": 20,
     "metadata": {},
     "output_type": "execute_result"
    }
   ],
   "source": [
    "keyDurA"
   ]
  },
  {
   "cell_type": "code",
   "execution_count": 21,
   "metadata": {},
   "outputs": [
    {
     "data": {
      "text/plain": [
       "[1.1759444000000006,\n",
       " 0.0,\n",
       " 0.0,\n",
       " 0.0,\n",
       " 0.2827278,\n",
       " 0.0,\n",
       " 1.2335288999999996,\n",
       " 0.0,\n",
       " 0.0,\n",
       " 0.0,\n",
       " 1.2083285000000004,\n",
       " 0.0,\n",
       " 0.0,\n",
       " 0.0,\n",
       " 0.5200527000000008,\n",
       " 0.0,\n",
       " 1.3779980999999992,\n",
       " 0.0,\n",
       " 0.0,\n",
       " 0.0,\n",
       " 2.7157680000000006,\n",
       " 0.0,\n",
       " 0.0,\n",
       " 0.0,\n",
       " 0.0,\n",
       " 0.0,\n",
       " 1.0454221999999973,\n",
       " 0.0,\n",
       " 0.0,\n",
       " 0.0,\n",
       " 0.8684529999999953,\n",
       " 0.0,\n",
       " 0.0,\n",
       " 0.0,\n",
       " 0.0,\n",
       " 0.0,\n",
       " 0.9969846999999987,\n",
       " 0.0,\n",
       " 0.0,\n",
       " 0.0,\n",
       " 1.4451065999999955,\n",
       " 0.0,\n",
       " 0.0,\n",
       " 0.0,\n",
       " 1.3528656000000012,\n",
       " 0.0,\n",
       " 0.0,\n",
       " 0.0,\n",
       " 0.0,\n",
       " 0.0,\n",
       " 0.0,\n",
       " 0.0,\n",
       " 0.0,\n",
       " 0.0,\n",
       " 1.0898473999999965,\n",
       " 0.0,\n",
       " 0.0,\n",
       " 0.0,\n",
       " 1.6557332000000002,\n",
       " 0.0,\n",
       " 0.15564520000000925,\n",
       " 0.0,\n",
       " 0.0,\n",
       " 0.0,\n",
       " 1.4383255000000048,\n",
       " 0.0,\n",
       " 0.0,\n",
       " 0.0,\n",
       " 0.0,\n",
       " 0.0,\n",
       " 0.0,\n",
       " 0.0,\n",
       " 0.7089958999999997,\n",
       " 0.0,\n",
       " 0.0,\n",
       " 0.0,\n",
       " 0.0,\n",
       " 0.0,\n",
       " 0.0,\n",
       " 0.0,\n",
       " 0.0,\n",
       " 0.0,\n",
       " 0.0,\n",
       " 0.0,\n",
       " 1.0830067999999997,\n",
       " 0.0,\n",
       " 0.0,\n",
       " 0.0,\n",
       " 0.0,\n",
       " 0.0,\n",
       " 0.0,\n",
       " 0.0,\n",
       " 1.6605576000000006,\n",
       " 0.0,\n",
       " 0.0,\n",
       " 0.0,\n",
       " 0.0,\n",
       " 0.0,\n",
       " 3.0695168000000024,\n",
       " 0.0,\n",
       " 0.0,\n",
       " 0.0,\n",
       " 0.0,\n",
       " 0.0,\n",
       " 0.0,\n",
       " 0.0,\n",
       " 1.1351938999999973,\n",
       " 0.0,\n",
       " 0.0,\n",
       " 0.0,\n",
       " 0.6682869000000053,\n",
       " 0.0,\n",
       " 0.0,\n",
       " 0.0,\n",
       " 0.23070730000000594,\n",
       " 0.0,\n",
       " 0.0,\n",
       " 0.0,\n",
       " 1.0116227999999978,\n",
       " 0.0,\n",
       " 0.0,\n",
       " 0.0,\n",
       " 0.0,\n",
       " 0.0,\n",
       " 0.0,\n",
       " 0.0,\n",
       " 0.0,\n",
       " 0.0,\n",
       " 0.0,\n",
       " 0.0,\n",
       " 2.399981699999998,\n",
       " 0.0,\n",
       " 0.0,\n",
       " 0.0,\n",
       " 0.9832365000000038,\n",
       " 0.0,\n",
       " 0.0,\n",
       " 0.0,\n",
       " 2.5796873000000033,\n",
       " 0.0,\n",
       " 0.0,\n",
       " 0.0,\n",
       " 0.0,\n",
       " 0.0,\n",
       " 0.0,\n",
       " 1.2189962999999997,\n",
       " 0.0,\n",
       " 0.0,\n",
       " 0.0,\n",
       " 3.9649791000000008,\n",
       " 0.0,\n",
       " 0.0,\n",
       " 0.0,\n",
       " 3.1070633,\n",
       " 0.0,\n",
       " 0.0,\n",
       " 0.0,\n",
       " 0.802536700000001,\n",
       " 0.0,\n",
       " 0.34191649999999996,\n",
       " 0.0,\n",
       " 1.1651284000000004,\n",
       " 0.0,\n",
       " 0.0,\n",
       " 0.0,\n",
       " 0.0,\n",
       " 0.0,\n",
       " 0.0,\n",
       " 0.0,\n",
       " 0.0,\n",
       " 0.0,\n",
       " 1.2057056000000017,\n",
       " 0.0,\n",
       " 0.0,\n",
       " 0.0,\n",
       " 1.7400427000000036,\n",
       " 0.0,\n",
       " 0.0,\n",
       " 0.0,\n",
       " 0.0,\n",
       " 0.0,\n",
       " 1.2224672999999981,\n",
       " 0.0,\n",
       " 1.5762750000000025,\n",
       " 0.0,\n",
       " 0.0,\n",
       " 0.0,\n",
       " 3.285079699999997,\n",
       " 0.0,\n",
       " 0.0,\n",
       " 0.0,\n",
       " 0.0,\n",
       " 0.0,\n",
       " 1.4450279999999935,\n",
       " 0.0,\n",
       " 1.551532199999997,\n",
       " 0.0,\n",
       " 0.3210961999999995,\n",
       " 0.0,\n",
       " 0.0,\n",
       " 0.0,\n",
       " 1.3688422000000031,\n",
       " 0.0,\n",
       " 0.0,\n",
       " 0.0,\n",
       " 2.0828209000000015,\n",
       " 0.0,\n",
       " 0.386238199999994,\n",
       " 0.0,\n",
       " 0.0,\n",
       " 0.0,\n",
       " 2.5127170000000003,\n",
       " 0.0,\n",
       " 1.6357648999999999,\n",
       " 0.0,\n",
       " 0.0,\n",
       " 0.0,\n",
       " 0.40897580000000033,\n",
       " 0.0,\n",
       " 1.4178306000000003,\n",
       " 0.0,\n",
       " 0.11376440000000088,\n",
       " 0.0,\n",
       " 1.1167614000000015,\n",
       " 0.0,\n",
       " 0.0,\n",
       " 0.0,\n",
       " 0.34677279999999655,\n",
       " 0.0,\n",
       " 0.0,\n",
       " 0.0,\n",
       " 2.104727799999999,\n",
       " 0.0,\n",
       " 0.0,\n",
       " 0.0,\n",
       " 5.070954499999999,\n",
       " 0.0,\n",
       " 0.0,\n",
       " 0.0,\n",
       " 0.0,\n",
       " 0.0,\n",
       " 2.280762799999998,\n",
       " 0.0,\n",
       " 0.0,\n",
       " 0.0,\n",
       " 1.9034320000000022,\n",
       " 0.0,\n",
       " 0.0,\n",
       " 0.0,\n",
       " 0.0,\n",
       " 0.0,\n",
       " 1.2082285999999982,\n",
       " 0.0,\n",
       " 1.203771500000002,\n",
       " 0.0,\n",
       " 1.0016716999999957,\n",
       " 0.0,\n",
       " 1.209739600000006,\n",
       " 0.0,\n",
       " 0.0,\n",
       " 0.0,\n",
       " 1.4984149000000002,\n",
       " 0.0,\n",
       " 0.0,\n",
       " 0.0,\n",
       " 2.4979399000000058,\n",
       " 0.0,\n",
       " 0.0,\n",
       " 0.0,\n",
       " 0.0,\n",
       " 0.0,\n",
       " 0.0,\n",
       " 0.0,\n",
       " 1.9351350999999966,\n",
       " 0.0,\n",
       " 0.0,\n",
       " 0.0,\n",
       " 1.8294178999999957,\n",
       " 0.0,\n",
       " 1.290385200000003,\n",
       " 0.0,\n",
       " 0.0,\n",
       " 0.8112770000000005,\n",
       " 0.0,\n",
       " 0.0,\n",
       " 0.0,\n",
       " 0.6945157999999996,\n",
       " 0.0,\n",
       " 0.0,\n",
       " 0.0,\n",
       " 0.0,\n",
       " 0.0,\n",
       " 0.0,\n",
       " 0.0,\n",
       " 1.0119694999999993,\n",
       " 0.0,\n",
       " 0.937978600000001,\n",
       " 0.0,\n",
       " 0.0,\n",
       " 0.0,\n",
       " 0.0,\n",
       " 0.0,\n",
       " 0.5834705000000007,\n",
       " 0.0,\n",
       " 0.5945719999999994,\n",
       " 0.0,\n",
       " 0.0,\n",
       " 0.0,\n",
       " 0.0,\n",
       " 0.0,\n",
       " 0.6358426999999978,\n",
       " 0.0,\n",
       " 0.0,\n",
       " 0.0,\n",
       " 0.0,\n",
       " 0.0,\n",
       " 1.7965797999999964,\n",
       " 0.0,\n",
       " 1.6854204999999993,\n",
       " 0.0,\n",
       " 0.5218279999999993,\n",
       " 0.0,\n",
       " 0.0,\n",
       " 0.0,\n",
       " 0.8945721000000049,\n",
       " 0.0,\n",
       " 0.0,\n",
       " 0.0,\n",
       " 0.0,\n",
       " 0.0,\n",
       " 0.0,\n",
       " 0.0,\n",
       " 0.0,\n",
       " 0.0,\n",
       " 2.021260500000011,\n",
       " 0.0,\n",
       " 0.44436699999999973,\n",
       " 0.0,\n",
       " 0.0,\n",
       " 0.0,\n",
       " 1.0376693000000046,\n",
       " 0.0,\n",
       " 0.0,\n",
       " 0.0,\n",
       " 0.6781730999999951,\n",
       " 0.0,\n",
       " 0.0,\n",
       " 0.0,\n",
       " 0.0,\n",
       " 0.0,\n",
       " 1.0796564999999987,\n",
       " 0.0,\n",
       " 0.0,\n",
       " 0.0,\n",
       " 1.2215216000000026,\n",
       " 0.0,\n",
       " 0.0,\n",
       " 0.0,\n",
       " 1.1601169000000056,\n",
       " 0.0,\n",
       " 0.0,\n",
       " 0.0,\n",
       " 1.5245635999999996,\n",
       " 0.0,\n",
       " 0.0,\n",
       " 0.0,\n",
       " 1.3147164,\n",
       " 0.0,\n",
       " 0.0,\n",
       " 0.0,\n",
       " 2.2194742000000005,\n",
       " 0.0,\n",
       " 0.0,\n",
       " 0.0,\n",
       " 2.419162100000001,\n",
       " 0.0,\n",
       " 0.0,\n",
       " 0.0,\n",
       " 1.6668854999999994,\n",
       " 0.0,\n",
       " 0.0,\n",
       " 0.0,\n",
       " 0.5307615999999982,\n",
       " 0.0,\n",
       " 0.0,\n",
       " 0.0,\n",
       " 0.0,\n",
       " 0.0,\n",
       " 0.0,\n",
       " 0.0,\n",
       " 1.937257499999994,\n",
       " 0.0,\n",
       " 0.0,\n",
       " 0.0,\n",
       " 0.7478179000000011,\n",
       " 0.0,\n",
       " 0.0,\n",
       " 0.0,\n",
       " 1.030001899999995,\n",
       " 0.0,\n",
       " 0.0,\n",
       " 0.0,\n",
       " 0.0,\n",
       " 0.0,\n",
       " 1.4887694999999965,\n",
       " 0.0,\n",
       " 0.0,\n",
       " 0.0,\n",
       " 0.0,\n",
       " 0.0,\n",
       " 2.1867426000000023,\n",
       " 0.0,\n",
       " 0.0,\n",
       " 0.0,\n",
       " 1.2421633000000014,\n",
       " 0.0,\n",
       " 1.6710756999999958,\n",
       " 0.0,\n",
       " 0.0,\n",
       " 0.0,\n",
       " 1.0634919000000025,\n",
       " 0.0,\n",
       " 0.0,\n",
       " 0.0,\n",
       " 1.6926777999999985,\n",
       " 0.0,\n",
       " 0.0,\n",
       " 0.0,\n",
       " 0.9899939000000018,\n",
       " 0.0,\n",
       " 0.0,\n",
       " 0.0,\n",
       " 0.8968602000000061,\n",
       " 0.0,\n",
       " 0.0,\n",
       " 0.0,\n",
       " 0.9577140999999898,\n",
       " 0.0,\n",
       " 0.0,\n",
       " 0.0,\n",
       " 0.24923939999999334,\n",
       " 0.0,\n",
       " 0.0,\n",
       " 0.0,\n",
       " 0.5371583000000015,\n",
       " 0.0,\n",
       " 0.0,\n",
       " 0.0,\n",
       " 0.0,\n",
       " 0.0,\n",
       " 1.009520099999989,\n",
       " 0.0,\n",
       " 0.0,\n",
       " 0.0,\n",
       " 1.6469486000000018,\n",
       " 0.0,\n",
       " 0.0,\n",
       " 0.0,\n",
       " 2.287682900000007,\n",
       " 0.0,\n",
       " 0.0,\n",
       " 0.0,\n",
       " 0.0,\n",
       " 1.8015426999999997,\n",
       " 0.0,\n",
       " 1.4618095999999987,\n",
       " 0.0,\n",
       " 0.0,\n",
       " 0.0,\n",
       " 0.0,\n",
       " 0.0,\n",
       " 3.5020328000000003,\n",
       " 0.0,\n",
       " 0.0,\n",
       " 0.0,\n",
       " 2.3132205,\n",
       " 0.0,\n",
       " 0.0,\n",
       " 0.0,\n",
       " 2.8530944,\n",
       " 0.0,\n",
       " 1.466690100000001,\n",
       " 0.0,\n",
       " 0.7395433999999952,\n",
       " 0.0,\n",
       " 0.0,\n",
       " 0.0,\n",
       " 3.260940699999999,\n",
       " 0.0,\n",
       " 0.0,\n",
       " 0.0,\n",
       " 1.051932899999997,\n",
       " 0.0,\n",
       " 0.0,\n",
       " 0.0,\n",
       " 2.1478388000000024,\n",
       " 0.0,\n",
       " 0.0,\n",
       " 0.0,\n",
       " 2.665803100000005,\n",
       " 0.0,\n",
       " 0.0,\n",
       " 0.0,\n",
       " 1.9184721000000025,\n",
       " 0.0,\n",
       " 0.0,\n",
       " 0.0,\n",
       " 0.0,\n",
       " 0.0,\n",
       " 0.0,\n",
       " 0.0,\n",
       " 2.4782292999999953,\n",
       " 0.0,\n",
       " 0.0,\n",
       " 0.0,\n",
       " 1.1397991000000047,\n",
       " 0.0,\n",
       " 0.0,\n",
       " 0.0,\n",
       " 0.0,\n",
       " 0.0,\n",
       " 1.7869364000000019,\n",
       " 0.0,\n",
       " 0.0,\n",
       " 0.0,\n",
       " 1.4034625999999975,\n",
       " 0.0,\n",
       " 0.0,\n",
       " 0.0,\n",
       " 0.0,\n",
       " 3.7766249000000007,\n",
       " 0.0,\n",
       " 0.0,\n",
       " 0.0,\n",
       " 0.624830799999998,\n",
       " 0.0,\n",
       " 0.32144620000000046,\n",
       " 0.0,\n",
       " 0.0,\n",
       " 0.0,\n",
       " 0.0,\n",
       " 0.0,\n",
       " 5.938469599999998,\n",
       " 0.0,\n",
       " 0.0,\n",
       " 0.0,\n",
       " 1.9492626000000044,\n",
       " 0.0,\n",
       " 0.0,\n",
       " 0.0,\n",
       " 2.5922257,\n",
       " 0.0,\n",
       " 0.0,\n",
       " 0.0,\n",
       " 0.36391569999999973,\n",
       " 0.0,\n",
       " 2.8442380999999983,\n",
       " 0.0,\n",
       " 0.0,\n",
       " 0.0,\n",
       " 1.1752899999999968,\n",
       " 0.0,\n",
       " 0.0,\n",
       " 0.0,\n",
       " 0.0,\n",
       " 0.0,\n",
       " 0.0]"
      ]
     },
     "execution_count": 21,
     "metadata": {},
     "output_type": "execute_result"
    }
   ],
   "source": [
    "rightEyeD"
   ]
  },
  {
   "cell_type": "code",
   "execution_count": 22,
   "metadata": {},
   "outputs": [
    {
     "data": {
      "text/plain": [
       "list"
      ]
     },
     "execution_count": 22,
     "metadata": {},
     "output_type": "execute_result"
    }
   ],
   "source": [
    "type(leftDurations)"
   ]
  },
  {
   "cell_type": "code",
   "execution_count": 23,
   "metadata": {},
   "outputs": [
    {
     "name": "stdout",
     "output_type": "stream",
     "text": [
      "132 149\n"
     ]
    }
   ],
   "source": [
    "leftDurations = np.array(leftDurations)\n",
    "leftDurations = leftDurations[leftDurations > 0.0]\n",
    "\n",
    "rightDurations = np.array(rightDurations)\n",
    "rightDurations = rightDurations[rightDurations > 0.0]\n",
    "print(len(rightDurations), len(leftDurations))"
   ]
  },
  {
   "cell_type": "code",
   "execution_count": 24,
   "metadata": {},
   "outputs": [
    {
     "name": "stdout",
     "output_type": "stream",
     "text": [
      "130 151\n"
     ]
    }
   ],
   "source": [
    "leftEyeD = np.array(leftEyeD)\n",
    "leftEyeD = leftEyeD[leftEyeD > 0.0]\n",
    "\n",
    "rightEyeD = np.array(rightEyeD)\n",
    "rightEyeD = rightEyeD[rightEyeD > 0.0]\n",
    "print(len(rightEyeD), len(leftEyeD))"
   ]
  },
  {
   "cell_type": "markdown",
   "metadata": {},
   "source": [
    "# By Orientation "
   ]
  },
  {
   "cell_type": "code",
   "execution_count": 25,
   "metadata": {},
   "outputs": [
    {
     "data": {
      "text/plain": [
       "Text(0.5, 0, 'Rivalry duration (s)')"
      ]
     },
     "execution_count": 25,
     "metadata": {},
     "output_type": "execute_result"
    },
    {
     "data": {
      "image/png": "[encoded data removed]",
      "text/plain": [
       "<Figure size 432x288 with 1 Axes>"
      ]
     },
     "metadata": {
      "needs_background": "light"
     },
     "output_type": "display_data"
    }
   ],
   "source": [
    "\n",
    "fig, ax = plt.subplots()\n",
    "num_bins = 30\n",
    "# the histogram of the data\n",
    "n, bins, patches = ax.hist(leftDurations, num_bins, color='red', alpha=0.5, range=(0.001, 5))\n",
    "n, bins, patches = ax.hist(rightDurations, num_bins, color='blue', alpha=0.5, range=(0.001, 5))\n",
    "\n",
    "ax.set_ylabel('frequency')\n",
    "ax.set_xlabel('Rivalry duration (s)')"
   ]
  },
  {
   "cell_type": "code",
   "execution_count": null,
   "metadata": {},
   "outputs": [],
   "source": [
    "df = pd.DataFrame({'a': np.random.normal(0,5,1000), 'b': np.random.normal(20,5,1000)})\n",
    "\n",
    "fig =plt.figure(figsize=(5,5))\n",
    "ax = fig.add_subplot(211)\n",
    "ax2 = fig.add_subplot(212)\n",
    "\n",
    "bins = np.arange(-20,40)\n",
    "\n",
    "ax.hist(df['a'], bins=bins)\n",
    "ax2.hist(df['b'],color='orange', bins=bins)\n",
    "ax2.invert_yaxis()"
   ]
  },
  {
   "cell_type": "code",
   "execution_count": 73,
   "metadata": {},
   "outputs": [
    {
     "name": "stdout",
     "output_type": "stream",
     "text": [
      "AxesSubplot(0.125,0.536818;0.775x0.343182) teal False\n",
      "AxesSubplot(0.125,0.125;0.775x0.343182) orange True\n"
     ]
    },
    {
     "data": {
      "image/png": "[encoded data removed]",
      "text/plain": [
       "<Figure size 360x360 with 2 Axes>"
      ]
     },
     "metadata": {
      "needs_background": "light"
     },
     "output_type": "display_data"
    }
   ],
   "source": [
    "import seaborn as sn\n",
    "fig, axes = plt.subplots(nrows=2, ncols=1, sharex=True, figsize=(5,5))\n",
    "\n",
    "#df = pd.DataFrame({'left': leftDurations, 'right':rightDurations})\n",
    "ori_dict = {}\n",
    "ori_dict['left'] = leftDurations\n",
    "ori_dict['right'] = rightDurations\n",
    "\n",
    "for ax, item, color, invert in zip(axes.ravel(), ori_dict, ['teal', 'orange'],  [False,True]):\n",
    "    print(ax, color, invert)\n",
    "    \n",
    "    ax.hist(ori_dict[item], bins=num_bins, color=color)\n",
    "    \n",
    "    if invert:\n",
    "        ax.invert_yaxis()\n",
    "        \n",
    "plt.subplots_adjust(hspace=0)"
   ]
  },
  {
   "cell_type": "markdown",
   "metadata": {},
   "source": [
    "## By Eye"
   ]
  },
  {
   "cell_type": "code",
   "execution_count": 26,
   "metadata": {},
   "outputs": [
    {
     "data": {
      "text/plain": [
       "Text(0.5, 0, 'Rivalry duration (s)')"
      ]
     },
     "execution_count": 26,
     "metadata": {},
     "output_type": "execute_result"
    },
    {
     "data": {
      "image/png": "[encoded data removed]",
      "text/plain": [
       "<Figure size 432x288 with 1 Axes>"
      ]
     },
     "metadata": {
      "needs_background": "light"
     },
     "output_type": "display_data"
    }
   ],
   "source": [
    "\n",
    "fig, ax = plt.subplots()\n",
    "num_bins = 25\n",
    "# the histogram of the data\n",
    "n, bins, patches = ax.hist(leftEyeD, num_bins, color='red', alpha=0.5, range=(0.001, 5))\n",
    "n, bins, patches = ax.hist(rightEyeD, num_bins, color='blue', alpha=0.5, range=(0.001, 5))\n",
    "\n",
    "ax.set_ylabel('frequency')\n",
    "ax.set_xlabel('Rivalry duration (s)')"
   ]
  },
  {
   "cell_type": "code",
   "execution_count": 27,
   "metadata": {},
   "outputs": [
    {
     "data": {
      "image/png": "[encoded data removed]",
      "text/plain": [
       "<Figure size 432x288 with 1 Axes>"
      ]
     },
     "metadata": {
      "needs_background": "light"
     },
     "output_type": "display_data"
    }
   ],
   "source": [
    "x = np.random.randn(10000)\n",
    "countsL,bin_edgesL = np.histogram(leftEyeD,25)\n",
    "bin_centersL = (bin_edgesL[:-1] + bin_edgesL[1:])/2.\n",
    "\n",
    "countsR,bin_edgesR = np.histogram(rightEyeD,20)\n",
    "bin_centersR = (bin_edgesR[:-1] + bin_edgesR[1:])/2.\n",
    "\n",
    "fig, ax = plt.subplots()\n",
    "\n",
    "plt.errorbar(bin_centersL, countsL, fmt='o', color='red')\n",
    "plt.errorbar(bin_centersR, countsR, fmt='o', color='blue')\n",
    "\n",
    "ax.set_ylabel('frequency')\n",
    "ax.set_xlabel('rivalry duration(s)')\n",
    "\n",
    "plt.show()"
   ]
  },
  {
   "cell_type": "code",
   "execution_count": null,
   "metadata": {},
   "outputs": [],
   "source": []
  },
  {
   "cell_type": "code",
   "execution_count": null,
   "metadata": {},
   "outputs": [],
   "source": []
  },
  {
   "cell_type": "markdown",
   "metadata": {},
   "source": [
    "## By Orientation"
   ]
  },
  {
   "cell_type": "code",
   "execution_count": 28,
   "metadata": {},
   "outputs": [
    {
     "data": {
      "image/png": "[encoded data removed]",
      "text/plain": [
       "<Figure size 432x288 with 1 Axes>"
      ]
     },
     "metadata": {
      "needs_background": "light"
     },
     "output_type": "display_data"
    }
   ],
   "source": [
    "#x = np.random.randn(10000)\n",
    "countsL,bin_edgesL = np.histogram(leftDurations,20)\n",
    "bin_centersL = (bin_edgesL[:-1] + bin_edgesL[1:])/2.\n",
    "\n",
    "countsR,bin_edgesR = np.histogram(rightDurations,20)\n",
    "bin_centersR = (bin_edgesR[:-1] + bin_edgesR[1:])/2.\n",
    "\n",
    "fig, ax = plt.subplots()\n",
    "\n",
    "plt.errorbar(bin_centersL, countsL, fmt='o', color='red')\n",
    "plt.errorbar(bin_centersR, countsR, fmt='o', color='blue')\n",
    "\n",
    "ax.set_ylabel('frequency')\n",
    "ax.set_xlabel('rivalry duration(s)')\n",
    "\n",
    "plt.show()"
   ]
  },
  {
   "cell_type": "code",
   "execution_count": 29,
   "metadata": {},
   "outputs": [],
   "source": [
    "# leftAlternations = np.reciprocal(leftDurations)\n",
    "# rightAlternations = np.reciprocal(rightDurations)\n",
    "\n",
    "# countsL,bin_edgesL = np.histogram(leftAlternations,20)\n",
    "# bin_centersL = (bin_edgesL[:-1] + bin_edgesL[1:])/2.\n",
    "\n",
    "# countsR,bin_edgesR = np.histogram(rightAlternations,20)\n",
    "# bin_centersR = (bin_edgesR[:-1] + bin_edgesR[1:])/2.\n",
    "\n",
    "# fig, ax = plt.subplots()\n",
    "\n",
    "# #plt.errorbar(bin_centersL, countsL, fmt='o', color='red')\n",
    "# plt.errorbar(bin_centersR, countsR, fmt='o', color='blue')\n",
    "\n",
    "# ax.set_ylabel('frequency')\n",
    "# ax.set_xlabel('rivalry alternations 1/duration(s)')\n",
    "\n",
    "# plt.show()"
   ]
  },
  {
   "cell_type": "code",
   "execution_count": 30,
   "metadata": {},
   "outputs": [
    {
     "data": {
      "image/png": "[encoded data removed]",
      "text/plain": [
       "<Figure size 432x288 with 1 Axes>"
      ]
     },
     "metadata": {
      "needs_background": "light"
     },
     "output_type": "display_data"
    }
   ],
   "source": [
    "### PLOT GAMMA\n",
    "from scipy.stats import gamma\n",
    "import matplotlib.pyplot as plt\n",
    "fig, ax = plt.subplots(1, 1)\n",
    "#Calculate a few first moments:\n",
    "\n",
    "\n",
    "a = 1.99323054838\n",
    "mean, var, skew, kurt = gamma.stats(a, moments='mvsk')\n",
    "#Display the probability density function (pdf):\n",
    "\n",
    "\n",
    "x = np.linspace(gamma.ppf(0.01, a), gamma.ppf(0.99, a), 100)\n",
    "ax.plot(bin_centersL, gamma.pdf(bin_centersL, a), 'r-', lw=5, alpha=0.6, label='gamma pdf')\n",
    "\n",
    "y = gamma.pdf(bin_centersL, a)"
   ]
  },
  {
   "cell_type": "code",
   "execution_count": 31,
   "metadata": {},
   "outputs": [
    {
     "data": {
      "text/plain": [
       "array([0.17203982, 0.3064781 , 0.36075699, 0.36728462, 0.34697259,\n",
       "       0.3131198 , 0.27396763, 0.23442608, 0.19724165, 0.16378366,\n",
       "       0.13456903, 0.10960849, 0.08863131, 0.07122831, 0.05694005,\n",
       "       0.04530911, 0.03590892, 0.02835777, 0.02232362, 0.01752361])"
      ]
     },
     "execution_count": 31,
     "metadata": {},
     "output_type": "execute_result"
    }
   ],
   "source": [
    "y"
   ]
  },
  {
   "cell_type": "code",
   "execution_count": 32,
   "metadata": {},
   "outputs": [
    {
     "data": {
      "text/plain": [
       "[<matplotlib.lines.Line2D at 0x1f733bdf1c8>]"
      ]
     },
     "execution_count": 32,
     "metadata": {},
     "output_type": "execute_result"
    },
    {
     "data": {
      "image/png": "[encoded data removed]",
      "text/plain": [
       "<Figure size 432x288 with 1 Axes>"
      ]
     },
     "metadata": {
      "needs_background": "light"
     },
     "output_type": "display_data"
    }
   ],
   "source": [
    "\n",
    "\n",
    "\n",
    "plt.plot(bin_centersL, countsL, 'o')"
   ]
  },
  {
   "cell_type": "code",
   "execution_count": 33,
   "metadata": {},
   "outputs": [
    {
     "data": {
      "text/plain": [
       "[<matplotlib.lines.Line2D at 0x1f733ca9d08>]"
      ]
     },
     "execution_count": 33,
     "metadata": {},
     "output_type": "execute_result"
    },
    {
     "data": {
      "image/png": "[encoded data removed]",
      "text/plain": [
       "<Figure size 432x288 with 1 Axes>"
      ]
     },
     "metadata": {
      "needs_background": "light"
     },
     "output_type": "display_data"
    }
   ],
   "source": [
    "tryG = gamma.pdf(bin_centersL, 1.91)\n",
    "plt.plot(bin_centersL, tryG*2)"
   ]
  },
  {
   "cell_type": "code",
   "execution_count": 34,
   "metadata": {},
   "outputs": [
    {
     "data": {
      "text/plain": [
       "array([ 4.37636402,  1.76188133,  1.16777077,  0.95517905,  0.88821996,\n",
       "        0.90470288,  0.98851864,  1.14344124,  1.38753305,  1.75467952,\n",
       "        2.30087702,  3.11613869,  4.34498866,  6.22121578,  9.12700918,\n",
       "       13.69442548, 20.98119233, 32.7783826 , 52.15429818, 84.42546042])"
      ]
     },
     "execution_count": 34,
     "metadata": {},
     "output_type": "execute_result"
    }
   ],
   "source": [
    "scipy.special.gamma(bin_centersL)"
   ]
  },
  {
   "cell_type": "code",
   "execution_count": 35,
   "metadata": {},
   "outputs": [],
   "source": [
    "def resample_with_replacement(x, y):\n",
    "    \"\"\"\n",
    "    Resample data points with replacement from the dataset of `x` inputs and\n",
    "    `y` measurements.\n",
    "\n",
    "    Args:\n",
    "    x (ndarray): An array of shape (samples,) that contains the input values.\n",
    "    y (ndarray): An array of shape (samples,) that contains the corresponding measurement values to the inputs.\n",
    "\n",
    "    Returns:ndarray, ndarray: The newly resampled `x` and `y` data points.\"\"\"\n",
    "  #######################################################\n",
    "  ## TODO for students: resample dataset with replacement\n",
    "  # Fill out function and remove\n",
    "  #raise NotImplementedError(\"Student exercise: resample dataset with replacement\")\n",
    "  #######################################################\n",
    "\n",
    "    # Get array of indices for resampled points\n",
    "    sample_idx = np.random.choice(len(x), size=15, replace=True)\n",
    "\n",
    "    # Sample from x and y according to sample_idx\n",
    "    x_ = x[sample_idx]\n",
    "    y_ = y[sample_idx]\n",
    "    return x_, y_\n"
   ]
  },
  {
   "cell_type": "code",
   "execution_count": 36,
   "metadata": {},
   "outputs": [],
   "source": [
    "def gammaTest(x, a, b):\n",
    "    #b = 4.0\n",
    "    gamma = scipy.special.gamma(x) \n",
    "    return (x**(a-1))*np.exp(-b*x)*((b**a)*(1/gamma))\n"
   ]
  },
  {
   "cell_type": "code",
   "execution_count": 77,
   "metadata": {},
   "outputs": [],
   "source": [
    "from scipy.special import factorial\n",
    "def gammaTest2(x, a, b):\n",
    "    (b**a)*(x**(-1))*np.exp(-b*x)*scipy.special.factorial(a-1)"
   ]
  },
  {
   "cell_type": "code",
   "execution_count": 78,
   "metadata": {
    "scrolled": true
   },
   "outputs": [
    {
     "name": "stderr",
     "output_type": "stream",
     "text": [
      "C:\\Users\\elawl\\anaconda3\\lib\\site-packages\\ipykernel_launcher.py:4: RuntimeWarning: overflow encountered in exp\n",
      "  after removing the cwd from sys.path.\n",
      "C:\\Users\\elawl\\anaconda3\\lib\\site-packages\\ipykernel_launcher.py:4: RuntimeWarning: invalid value encountered in double_scalars\n",
      "  after removing the cwd from sys.path.\n",
      "C:\\Users\\elawl\\anaconda3\\lib\\site-packages\\ipykernel_launcher.py:4: RuntimeWarning: overflow encountered in multiply\n",
      "  after removing the cwd from sys.path.\n",
      "C:\\Users\\elawl\\anaconda3\\lib\\site-packages\\ipykernel_launcher.py:4: RuntimeWarning: overflow encountered in double_scalars\n",
      "  after removing the cwd from sys.path.\n",
      "C:\\Users\\elawl\\anaconda3\\lib\\site-packages\\ipykernel_launcher.py:4: RuntimeWarning: overflow encountered in power\n",
      "  after removing the cwd from sys.path.\n",
      "C:\\Users\\elawl\\anaconda3\\lib\\site-packages\\ipykernel_launcher.py:4: RuntimeWarning: invalid value encountered in multiply\n",
      "  after removing the cwd from sys.path.\n"
     ]
    }
   ],
   "source": [
    "holdParamsA_R = np.zeros(400)\n",
    "holdParamsB_R = np.zeros(400)\n",
    "\n",
    "holdParamsA_L = np.zeros(400)\n",
    "holdParamsB_L = np.zeros(400)\n",
    "\n",
    "# RIGHT CI\n",
    "for i in range(400):\n",
    "    tryX, tryY = resample_with_replacement(bin_centersR, countsR)\n",
    "    \n",
    "    popt, pcov = scipy.optimize.curve_fit(gammaTest, tryX, tryY, p0 = [2.3, 4.0], maxfev=6000)\n",
    "    holdParamsA_R[i] = popt[0]\n",
    "    holdParamsB_R[i] = popt[1]\n",
    "\n",
    "for i in range(400):\n",
    "    tryX, tryY = resample_with_replacement(bin_centersL, countsL)\n",
    "    \n",
    "    popt, pcov = scipy.optimize.curve_fit(gammaTest, tryX, tryY, p0 = [5.3, 4.0], maxfev=6000)\n",
    "    holdParamsA_L[i] = popt[0]\n",
    "    holdParamsB_L[i] = popt[1]"
   ]
  },
  {
   "cell_type": "code",
   "execution_count": 79,
   "metadata": {},
   "outputs": [
    {
     "ename": "TypeError",
     "evalue": "unsupported operand type(s) for -: 'NoneType' and 'float'",
     "output_type": "error",
     "traceback": [
      "\u001b[1;31m---------------------------------------------------------------------------\u001b[0m",
      "\u001b[1;31mTypeError\u001b[0m                                 Traceback (most recent call last)",
      "\u001b[1;32m<ipython-input-79-c29140bc7be7>\u001b[0m in \u001b[0;36m<module>\u001b[1;34m\u001b[0m\n\u001b[0;32m      9\u001b[0m     \u001b[0mtryX\u001b[0m\u001b[1;33m,\u001b[0m \u001b[0mtryY\u001b[0m \u001b[1;33m=\u001b[0m \u001b[0mresample_with_replacement\u001b[0m\u001b[1;33m(\u001b[0m\u001b[0mbin_centersR\u001b[0m\u001b[1;33m,\u001b[0m \u001b[0mcountsR\u001b[0m\u001b[1;33m)\u001b[0m\u001b[1;33m\u001b[0m\u001b[1;33m\u001b[0m\u001b[0m\n\u001b[0;32m     10\u001b[0m \u001b[1;33m\u001b[0m\u001b[0m\n\u001b[1;32m---> 11\u001b[1;33m     \u001b[0mpopt\u001b[0m\u001b[1;33m,\u001b[0m \u001b[0mpcov\u001b[0m \u001b[1;33m=\u001b[0m \u001b[0mscipy\u001b[0m\u001b[1;33m.\u001b[0m\u001b[0moptimize\u001b[0m\u001b[1;33m.\u001b[0m\u001b[0mcurve_fit\u001b[0m\u001b[1;33m(\u001b[0m\u001b[0mgammaTest2\u001b[0m\u001b[1;33m,\u001b[0m \u001b[0mtryX\u001b[0m\u001b[1;33m,\u001b[0m \u001b[0mtryY\u001b[0m\u001b[1;33m,\u001b[0m \u001b[0mp0\u001b[0m \u001b[1;33m=\u001b[0m \u001b[1;33m[\u001b[0m\u001b[1;36m2\u001b[0m\u001b[1;33m,\u001b[0m \u001b[1;36m4.0\u001b[0m\u001b[1;33m]\u001b[0m\u001b[1;33m,\u001b[0m \u001b[0mmaxfev\u001b[0m\u001b[1;33m=\u001b[0m\u001b[1;36m6000\u001b[0m\u001b[1;33m)\u001b[0m\u001b[1;33m\u001b[0m\u001b[1;33m\u001b[0m\u001b[0m\n\u001b[0m\u001b[0;32m     12\u001b[0m     \u001b[0mholdParamsA_R\u001b[0m\u001b[1;33m[\u001b[0m\u001b[0mi\u001b[0m\u001b[1;33m]\u001b[0m \u001b[1;33m=\u001b[0m \u001b[0mpopt\u001b[0m\u001b[1;33m[\u001b[0m\u001b[1;36m0\u001b[0m\u001b[1;33m]\u001b[0m\u001b[1;33m\u001b[0m\u001b[1;33m\u001b[0m\u001b[0m\n\u001b[0;32m     13\u001b[0m     \u001b[0mholdParamsB_R\u001b[0m\u001b[1;33m[\u001b[0m\u001b[0mi\u001b[0m\u001b[1;33m]\u001b[0m \u001b[1;33m=\u001b[0m \u001b[0mpopt\u001b[0m\u001b[1;33m[\u001b[0m\u001b[1;36m1\u001b[0m\u001b[1;33m]\u001b[0m\u001b[1;33m\u001b[0m\u001b[1;33m\u001b[0m\u001b[0m\n",
      "\u001b[1;32m~\\anaconda3\\lib\\site-packages\\scipy\\optimize\\minpack.py\u001b[0m in \u001b[0;36mcurve_fit\u001b[1;34m(f, xdata, ydata, p0, sigma, absolute_sigma, check_finite, bounds, method, jac, **kwargs)\u001b[0m\n\u001b[0;32m    782\u001b[0m         \u001b[1;31m# Remove full_output from kwargs, otherwise we're passing it in twice.\u001b[0m\u001b[1;33m\u001b[0m\u001b[1;33m\u001b[0m\u001b[1;33m\u001b[0m\u001b[0m\n\u001b[0;32m    783\u001b[0m         \u001b[0mreturn_full\u001b[0m \u001b[1;33m=\u001b[0m \u001b[0mkwargs\u001b[0m\u001b[1;33m.\u001b[0m\u001b[0mpop\u001b[0m\u001b[1;33m(\u001b[0m\u001b[1;34m'full_output'\u001b[0m\u001b[1;33m,\u001b[0m \u001b[1;32mFalse\u001b[0m\u001b[1;33m)\u001b[0m\u001b[1;33m\u001b[0m\u001b[1;33m\u001b[0m\u001b[0m\n\u001b[1;32m--> 784\u001b[1;33m         \u001b[0mres\u001b[0m \u001b[1;33m=\u001b[0m \u001b[0mleastsq\u001b[0m\u001b[1;33m(\u001b[0m\u001b[0mfunc\u001b[0m\u001b[1;33m,\u001b[0m \u001b[0mp0\u001b[0m\u001b[1;33m,\u001b[0m \u001b[0mDfun\u001b[0m\u001b[1;33m=\u001b[0m\u001b[0mjac\u001b[0m\u001b[1;33m,\u001b[0m \u001b[0mfull_output\u001b[0m\u001b[1;33m=\u001b[0m\u001b[1;36m1\u001b[0m\u001b[1;33m,\u001b[0m \u001b[1;33m**\u001b[0m\u001b[0mkwargs\u001b[0m\u001b[1;33m)\u001b[0m\u001b[1;33m\u001b[0m\u001b[1;33m\u001b[0m\u001b[0m\n\u001b[0m\u001b[0;32m    785\u001b[0m         \u001b[0mpopt\u001b[0m\u001b[1;33m,\u001b[0m \u001b[0mpcov\u001b[0m\u001b[1;33m,\u001b[0m \u001b[0minfodict\u001b[0m\u001b[1;33m,\u001b[0m \u001b[0merrmsg\u001b[0m\u001b[1;33m,\u001b[0m \u001b[0mier\u001b[0m \u001b[1;33m=\u001b[0m \u001b[0mres\u001b[0m\u001b[1;33m\u001b[0m\u001b[1;33m\u001b[0m\u001b[0m\n\u001b[0;32m    786\u001b[0m         \u001b[0mysize\u001b[0m \u001b[1;33m=\u001b[0m \u001b[0mlen\u001b[0m\u001b[1;33m(\u001b[0m\u001b[0minfodict\u001b[0m\u001b[1;33m[\u001b[0m\u001b[1;34m'fvec'\u001b[0m\u001b[1;33m]\u001b[0m\u001b[1;33m)\u001b[0m\u001b[1;33m\u001b[0m\u001b[1;33m\u001b[0m\u001b[0m\n",
      "\u001b[1;32m~\\anaconda3\\lib\\site-packages\\scipy\\optimize\\minpack.py\u001b[0m in \u001b[0;36mleastsq\u001b[1;34m(func, x0, args, Dfun, full_output, col_deriv, ftol, xtol, gtol, maxfev, epsfcn, factor, diag)\u001b[0m\n\u001b[0;32m    408\u001b[0m     \u001b[1;32mif\u001b[0m \u001b[1;32mnot\u001b[0m \u001b[0misinstance\u001b[0m\u001b[1;33m(\u001b[0m\u001b[0margs\u001b[0m\u001b[1;33m,\u001b[0m \u001b[0mtuple\u001b[0m\u001b[1;33m)\u001b[0m\u001b[1;33m:\u001b[0m\u001b[1;33m\u001b[0m\u001b[1;33m\u001b[0m\u001b[0m\n\u001b[0;32m    409\u001b[0m         \u001b[0margs\u001b[0m \u001b[1;33m=\u001b[0m \u001b[1;33m(\u001b[0m\u001b[0margs\u001b[0m\u001b[1;33m,\u001b[0m\u001b[1;33m)\u001b[0m\u001b[1;33m\u001b[0m\u001b[1;33m\u001b[0m\u001b[0m\n\u001b[1;32m--> 410\u001b[1;33m     \u001b[0mshape\u001b[0m\u001b[1;33m,\u001b[0m \u001b[0mdtype\u001b[0m \u001b[1;33m=\u001b[0m \u001b[0m_check_func\u001b[0m\u001b[1;33m(\u001b[0m\u001b[1;34m'leastsq'\u001b[0m\u001b[1;33m,\u001b[0m \u001b[1;34m'func'\u001b[0m\u001b[1;33m,\u001b[0m \u001b[0mfunc\u001b[0m\u001b[1;33m,\u001b[0m \u001b[0mx0\u001b[0m\u001b[1;33m,\u001b[0m \u001b[0margs\u001b[0m\u001b[1;33m,\u001b[0m \u001b[0mn\u001b[0m\u001b[1;33m)\u001b[0m\u001b[1;33m\u001b[0m\u001b[1;33m\u001b[0m\u001b[0m\n\u001b[0m\u001b[0;32m    411\u001b[0m     \u001b[0mm\u001b[0m \u001b[1;33m=\u001b[0m \u001b[0mshape\u001b[0m\u001b[1;33m[\u001b[0m\u001b[1;36m0\u001b[0m\u001b[1;33m]\u001b[0m\u001b[1;33m\u001b[0m\u001b[1;33m\u001b[0m\u001b[0m\n\u001b[0;32m    412\u001b[0m \u001b[1;33m\u001b[0m\u001b[0m\n",
      "\u001b[1;32m~\\anaconda3\\lib\\site-packages\\scipy\\optimize\\minpack.py\u001b[0m in \u001b[0;36m_check_func\u001b[1;34m(checker, argname, thefunc, x0, args, numinputs, output_shape)\u001b[0m\n\u001b[0;32m     22\u001b[0m def _check_func(checker, argname, thefunc, x0, args, numinputs,\n\u001b[0;32m     23\u001b[0m                 output_shape=None):\n\u001b[1;32m---> 24\u001b[1;33m     \u001b[0mres\u001b[0m \u001b[1;33m=\u001b[0m \u001b[0matleast_1d\u001b[0m\u001b[1;33m(\u001b[0m\u001b[0mthefunc\u001b[0m\u001b[1;33m(\u001b[0m\u001b[1;33m*\u001b[0m\u001b[1;33m(\u001b[0m\u001b[1;33m(\u001b[0m\u001b[0mx0\u001b[0m\u001b[1;33m[\u001b[0m\u001b[1;33m:\u001b[0m\u001b[0mnuminputs\u001b[0m\u001b[1;33m]\u001b[0m\u001b[1;33m,\u001b[0m\u001b[1;33m)\u001b[0m \u001b[1;33m+\u001b[0m \u001b[0margs\u001b[0m\u001b[1;33m)\u001b[0m\u001b[1;33m)\u001b[0m\u001b[1;33m)\u001b[0m\u001b[1;33m\u001b[0m\u001b[1;33m\u001b[0m\u001b[0m\n\u001b[0m\u001b[0;32m     25\u001b[0m     \u001b[1;32mif\u001b[0m \u001b[1;33m(\u001b[0m\u001b[0moutput_shape\u001b[0m \u001b[1;32mis\u001b[0m \u001b[1;32mnot\u001b[0m \u001b[1;32mNone\u001b[0m\u001b[1;33m)\u001b[0m \u001b[1;32mand\u001b[0m \u001b[1;33m(\u001b[0m\u001b[0mshape\u001b[0m\u001b[1;33m(\u001b[0m\u001b[0mres\u001b[0m\u001b[1;33m)\u001b[0m \u001b[1;33m!=\u001b[0m \u001b[0moutput_shape\u001b[0m\u001b[1;33m)\u001b[0m\u001b[1;33m:\u001b[0m\u001b[1;33m\u001b[0m\u001b[1;33m\u001b[0m\u001b[0m\n\u001b[0;32m     26\u001b[0m         \u001b[1;32mif\u001b[0m \u001b[1;33m(\u001b[0m\u001b[0moutput_shape\u001b[0m\u001b[1;33m[\u001b[0m\u001b[1;36m0\u001b[0m\u001b[1;33m]\u001b[0m \u001b[1;33m!=\u001b[0m \u001b[1;36m1\u001b[0m\u001b[1;33m)\u001b[0m\u001b[1;33m:\u001b[0m\u001b[1;33m\u001b[0m\u001b[1;33m\u001b[0m\u001b[0m\n",
      "\u001b[1;32m~\\anaconda3\\lib\\site-packages\\scipy\\optimize\\minpack.py\u001b[0m in \u001b[0;36mfunc_wrapped\u001b[1;34m(params)\u001b[0m\n\u001b[0;32m    482\u001b[0m     \u001b[1;32mif\u001b[0m \u001b[0mtransform\u001b[0m \u001b[1;32mis\u001b[0m \u001b[1;32mNone\u001b[0m\u001b[1;33m:\u001b[0m\u001b[1;33m\u001b[0m\u001b[1;33m\u001b[0m\u001b[0m\n\u001b[0;32m    483\u001b[0m         \u001b[1;32mdef\u001b[0m \u001b[0mfunc_wrapped\u001b[0m\u001b[1;33m(\u001b[0m\u001b[0mparams\u001b[0m\u001b[1;33m)\u001b[0m\u001b[1;33m:\u001b[0m\u001b[1;33m\u001b[0m\u001b[1;33m\u001b[0m\u001b[0m\n\u001b[1;32m--> 484\u001b[1;33m             \u001b[1;32mreturn\u001b[0m \u001b[0mfunc\u001b[0m\u001b[1;33m(\u001b[0m\u001b[0mxdata\u001b[0m\u001b[1;33m,\u001b[0m \u001b[1;33m*\u001b[0m\u001b[0mparams\u001b[0m\u001b[1;33m)\u001b[0m \u001b[1;33m-\u001b[0m \u001b[0mydata\u001b[0m\u001b[1;33m\u001b[0m\u001b[1;33m\u001b[0m\u001b[0m\n\u001b[0m\u001b[0;32m    485\u001b[0m     \u001b[1;32melif\u001b[0m \u001b[0mtransform\u001b[0m\u001b[1;33m.\u001b[0m\u001b[0mndim\u001b[0m \u001b[1;33m==\u001b[0m \u001b[1;36m1\u001b[0m\u001b[1;33m:\u001b[0m\u001b[1;33m\u001b[0m\u001b[1;33m\u001b[0m\u001b[0m\n\u001b[0;32m    486\u001b[0m         \u001b[1;32mdef\u001b[0m \u001b[0mfunc_wrapped\u001b[0m\u001b[1;33m(\u001b[0m\u001b[0mparams\u001b[0m\u001b[1;33m)\u001b[0m\u001b[1;33m:\u001b[0m\u001b[1;33m\u001b[0m\u001b[1;33m\u001b[0m\u001b[0m\n",
      "\u001b[1;31mTypeError\u001b[0m: unsupported operand type(s) for -: 'NoneType' and 'float'"
     ]
    }
   ],
   "source": [
    "holdParamsA_R = np.zeros(400)\n",
    "holdParamsB_R = np.zeros(400)\n",
    "\n",
    "holdParamsA_L = np.zeros(400)\n",
    "holdParamsB_L = np.zeros(400)\n",
    "\n",
    "# RIGHT CI\n",
    "for i in range(400):\n",
    "    tryX, tryY = resample_with_replacement(bin_centersR, countsR)\n",
    "    \n",
    "    popt, pcov = scipy.optimize.curve_fit(gammaTest2, tryX, tryY, p0 = [2, 4.0], maxfev=6000)\n",
    "    holdParamsA_R[i] = popt[0]\n",
    "    holdParamsB_R[i] = popt[1]\n",
    "\n",
    "for i in range(400):\n",
    "    tryX, tryY = resample_with_replacement(bin_centersL, countsL)\n",
    "    \n",
    "    popt, pcov = scipy.optimize.curve_fit(gammaTest2, tryX, tryY, p0 = [2, 4.0], maxfev=6000)\n",
    "    holdParamsA_L[i] = popt[0]\n",
    "    holdParamsB_L[i] = popt[1]"
   ]
  },
  {
   "cell_type": "code",
   "execution_count": 52,
   "metadata": {},
   "outputs": [
    {
     "name": "stderr",
     "output_type": "stream",
     "text": [
      "C:\\Users\\elawl\\anaconda3\\lib\\site-packages\\ipykernel_launcher.py:4: RuntimeWarning: invalid value encountered in double_scalars\n",
      "  after removing the cwd from sys.path.\n",
      "C:\\Users\\elawl\\anaconda3\\lib\\site-packages\\ipykernel_launcher.py:4: RuntimeWarning: overflow encountered in exp\n",
      "  after removing the cwd from sys.path.\n"
     ]
    },
    {
     "name": "stdout",
     "output_type": "stream",
     "text": [
      "[5.20109107 5.40447951]\n",
      "[5.15570409 3.82246489]\n"
     ]
    },
    {
     "data": {
      "image/png": "[encoded data removed]",
      "text/plain": [
       "<Figure size 432x288 with 1 Axes>"
      ]
     },
     "metadata": {
      "needs_background": "light"
     },
     "output_type": "display_data"
    }
   ],
   "source": [
    "# iteratively look for smallest error with least mean square error to fit parameters for gamma \n",
    "\n",
    "\n",
    "\n",
    "# x data is bin_centersL\n",
    "# y data is centersL\n",
    "\n",
    "poptL, pcov = scipy.optimize.curve_fit(gammaTest, bin_centersL, countsL, p0 = [2.3, 4.0], maxfev=3000)\n",
    "print(poptL)\n",
    "\n",
    "poptR, pcovR = scipy.optimize.curve_fit(gammaTest, bin_centersR, countsR, p0 = [1.3, 4.0], maxfev=3000)\n",
    "print(poptR)\n",
    "\n",
    "fig, ax = plt.subplots()\n",
    "\n",
    "plt.plot(bin_centersL, countsL, 'bo')\n",
    "plt.plot(bin_centersL, gammaTest(bin_centersL, *poptL), 'b-', label='left grating')\n",
    "\n",
    "plt.plot(bin_centersR, countsR, 'ro')\n",
    "plt.plot(bin_centersR, gammaTest(bin_centersR, *poptR), 'r-', label='right grating')\n",
    "\n",
    "ax.set_xlabel('rivalry duration (s)')\n",
    "ax.set_ylabel('frequency')\n",
    "\n",
    "lowerCI_L = gammaTest(bin_centersL, np.percentile(holdParamsA_L, 2.5), np.percentile(holdParamsB_L, 2.5))#, np.percentile(holdParamsB, 2.5))\n",
    "upperCI_L = gammaTest(bin_centersL, np.percentile(holdParamsA_L, 97.5), np.percentile(holdParamsB_L, 97.5))#, np.percentile(holdParamsB, 97.5))\n",
    "\n",
    "lowerCI_R = gammaTest(bin_centersR, np.percentile(holdParamsA_R, 2.5), np.percentile(holdParamsB_R, 2.5))#, np.percentile(holdParamsB, 2.5))\n",
    "upperCI_R = gammaTest(bin_centersR, np.percentile(holdParamsA_R, 97.5), np.percentile(holdParamsB_R, 97.5))#, np.percentile(holdParamsB, 97.5))\n",
    "\n",
    "#ax.fill_between(bin_centersL, lowerCI_L, upperCI_L, color='b', alpha=.1)\n",
    "#ax.fill_between(bin_centersR, lowerCI_R, upperCI_R, color='r', alpha=.1)"
   ]
  },
  {
   "cell_type": "code",
   "execution_count": 53,
   "metadata": {},
   "outputs": [],
   "source": [
    "# BY EYE "
   ]
  },
  {
   "cell_type": "code",
   "execution_count": 54,
   "metadata": {},
   "outputs": [
    {
     "data": {
      "image/png": "[encoded data removed]",
      "text/plain": [
       "<Figure size 432x288 with 1 Axes>"
      ]
     },
     "metadata": {
      "needs_background": "light"
     },
     "output_type": "display_data"
    }
   ],
   "source": [
    "x = np.random.randn(10000)\n",
    "countsL,bin_edgesL = np.histogram(leftEyeD,25)\n",
    "bin_centersL = (bin_edgesL[:-1] + bin_edgesL[1:])/2.\n",
    "\n",
    "countsR,bin_edgesR = np.histogram(rightEyeD,20)\n",
    "bin_centersR = (bin_edgesR[:-1] + bin_edgesR[1:])/2.\n",
    "\n",
    "fig, ax = plt.subplots()\n",
    "\n",
    "plt.errorbar(bin_centersL, countsL, fmt='o', color='red')\n",
    "plt.errorbar(bin_centersR, countsR, fmt='o', color='blue')\n",
    "\n",
    "ax.set_ylabel('frequency')\n",
    "ax.set_xlabel('rivalry duration(s)')\n",
    "\n",
    "plt.show()"
   ]
  },
  {
   "cell_type": "code",
   "execution_count": 56,
   "metadata": {},
   "outputs": [
    {
     "name": "stderr",
     "output_type": "stream",
     "text": [
      "C:\\Users\\elawl\\anaconda3\\lib\\site-packages\\ipykernel_launcher.py:4: RuntimeWarning: invalid value encountered in double_scalars\n",
      "  after removing the cwd from sys.path.\n",
      "C:\\Users\\elawl\\anaconda3\\lib\\site-packages\\ipykernel_launcher.py:4: RuntimeWarning: overflow encountered in exp\n",
      "  after removing the cwd from sys.path.\n",
      "C:\\Users\\elawl\\anaconda3\\lib\\site-packages\\ipykernel_launcher.py:4: RuntimeWarning: overflow encountered in multiply\n",
      "  after removing the cwd from sys.path.\n",
      "C:\\Users\\elawl\\anaconda3\\lib\\site-packages\\ipykernel_launcher.py:4: RuntimeWarning: overflow encountered in double_scalars\n",
      "  after removing the cwd from sys.path.\n",
      "C:\\Users\\elawl\\anaconda3\\lib\\site-packages\\ipykernel_launcher.py:4: RuntimeWarning: invalid value encountered in multiply\n",
      "  after removing the cwd from sys.path.\n",
      "C:\\Users\\elawl\\anaconda3\\lib\\site-packages\\ipykernel_launcher.py:4: RuntimeWarning: overflow encountered in power\n",
      "  after removing the cwd from sys.path.\n"
     ]
    }
   ],
   "source": [
    "holdParamsA_R = np.zeros(400)\n",
    "holdParamsB_R = np.zeros(400)\n",
    "\n",
    "holdParamsA_L = np.zeros(400)\n",
    "holdParamsB_L = np.zeros(400)\n",
    "\n",
    "# RIGHT CI\n",
    "for i in range(400):\n",
    "    tryX, tryY = resample_with_replacement(bin_centersR, countsR)\n",
    "    \n",
    "    popt, pcov = scipy.optimize.curve_fit(gammaTest, tryX, tryY, p0 = [2.3, 4.0], maxfev=6000)\n",
    "    holdParamsA_R[i] = popt[0]\n",
    "    holdParamsB_R[i] = popt[1]\n",
    "\n",
    "for i in range(400):\n",
    "    tryX, tryY = resample_with_replacement(bin_centersL, countsL)\n",
    "    \n",
    "    popt, pcov = scipy.optimize.curve_fit(gammaTest, tryX, tryY, p0 = [2.3, 4.0], maxfev=6000)\n",
    "    holdParamsA_L[i] = popt[0]\n",
    "   # holdParamsB_R[i] = popt[1]"
   ]
  },
  {
   "cell_type": "code",
   "execution_count": 59,
   "metadata": {},
   "outputs": [
    {
     "name": "stdout",
     "output_type": "stream",
     "text": [
      "[5.20109107 5.40447951]\n",
      "[5.15570409 3.82246489]\n"
     ]
    },
    {
     "name": "stderr",
     "output_type": "stream",
     "text": [
      "C:\\Users\\elawl\\anaconda3\\lib\\site-packages\\ipykernel_launcher.py:4: RuntimeWarning: invalid value encountered in double_scalars\n",
      "  after removing the cwd from sys.path.\n",
      "C:\\Users\\elawl\\anaconda3\\lib\\site-packages\\ipykernel_launcher.py:4: RuntimeWarning: overflow encountered in exp\n",
      "  after removing the cwd from sys.path.\n"
     ]
    },
    {
     "data": {
      "text/plain": [
       "Text(0, 0.5, 'frequency')"
      ]
     },
     "execution_count": 59,
     "metadata": {},
     "output_type": "execute_result"
    },
    {
     "data": {
      "image/png": "[encoded data removed]",
      "text/plain": [
       "<Figure size 432x288 with 1 Axes>"
      ]
     },
     "metadata": {
      "needs_background": "light"
     },
     "output_type": "display_data"
    }
   ],
   "source": [
    "# iteratively look for smallest error with least mean square error to fit parameters for gamma \n",
    "\n",
    "\n",
    "\n",
    "# x data is bin_centersL\n",
    "# y data is centersL\n",
    "\n",
    "poptL, pcov = scipy.optimize.curve_fit(gammaTest, bin_centersL, countsL, p0 = [2.3, 4.0], maxfev=3000)\n",
    "print(poptL)\n",
    "\n",
    "poptR, pcovR = scipy.optimize.curve_fit(gammaTest, bin_centersR, countsR, p0 = [1.3, 4.0], maxfev=3000)\n",
    "print(poptR)\n",
    "\n",
    "fig, ax = plt.subplots()\n",
    "\n",
    "plt.plot(bin_centersL, countsL, 'bo')\n",
    "plt.plot(bin_centersL, gammaTest(bin_centersL, poptL[0], poptL[1]), 'b-', label='left grating')\n",
    "\n",
    "plt.plot(bin_centersR, countsR, 'ro')\n",
    "plt.plot(bin_centersR, gammaTest(bin_centersR, *poptR), 'r-', label='right grating')\n",
    "\n",
    "ax.set_xlabel('rivalry duration (s)')\n",
    "ax.set_ylabel('frequency')\n",
    "\n",
    "# lowerCI_L = gammaTest(bin_centersL, np.percentile(holdParamsA_L, 2.5))#, np.percentile(holdParamsB, 2.5))\n",
    "# upperCI_L = gammaTest(bin_centersL, np.percentile(holdParamsA_L, 97.5))#, np.percentile(holdParamsB, 97.5))\n",
    "\n",
    "# lowerCI_R = gammaTest(bin_centersR, np.percentile(holdParamsA_R, 2.5))#, np.percentile(holdParamsB, 2.5))\n",
    "# upperCI_R = gammaTest(bin_centersR, np.percentile(holdParamsA_R, 97.5))#, np.percentile(holdParamsB, 97.5))\n",
    "\n",
    "# ax.fill_between(bin_centersL, lowerCI_L, upperCI_L, color='b', alpha=.1)\n",
    "# ax.fill_between(bin_centersR, lowerCI_R, upperCI_R, color='r', alpha=.1)"
   ]
  },
  {
   "cell_type": "code",
   "execution_count": 60,
   "metadata": {},
   "outputs": [
    {
     "ename": "NameError",
     "evalue": "name 'holdParamsB' is not defined",
     "output_type": "error",
     "traceback": [
      "\u001b[1;31m---------------------------------------------------------------------------\u001b[0m",
      "\u001b[1;31mNameError\u001b[0m                                 Traceback (most recent call last)",
      "\u001b[1;32m<ipython-input-60-d1c8ee9fb073>\u001b[0m in \u001b[0;36m<module>\u001b[1;34m\u001b[0m\n\u001b[1;32m----> 1\u001b[1;33m \u001b[0mnp\u001b[0m\u001b[1;33m.\u001b[0m\u001b[0mpercentile\u001b[0m\u001b[1;33m(\u001b[0m\u001b[0mholdParamsB\u001b[0m\u001b[1;33m,\u001b[0m \u001b[1;36m97.5\u001b[0m\u001b[1;33m)\u001b[0m\u001b[1;33m\u001b[0m\u001b[1;33m\u001b[0m\u001b[0m\n\u001b[0m",
      "\u001b[1;31mNameError\u001b[0m: name 'holdParamsB' is not defined"
     ]
    }
   ],
   "source": [
    "np.percentile(holdParamsB, 97.5)"
   ]
  },
  {
   "cell_type": "code",
   "execution_count": 61,
   "metadata": {},
   "outputs": [
    {
     "ename": "NameError",
     "evalue": "name 'holdParamsB' is not defined",
     "output_type": "error",
     "traceback": [
      "\u001b[1;31m---------------------------------------------------------------------------\u001b[0m",
      "\u001b[1;31mNameError\u001b[0m                                 Traceback (most recent call last)",
      "\u001b[1;32m<ipython-input-61-63754f6d9216>\u001b[0m in \u001b[0;36m<module>\u001b[1;34m\u001b[0m\n\u001b[0;32m      1\u001b[0m \u001b[0mfig\u001b[0m\u001b[1;33m,\u001b[0m\u001b[0max\u001b[0m \u001b[1;33m=\u001b[0m \u001b[0mplt\u001b[0m\u001b[1;33m.\u001b[0m\u001b[0msubplots\u001b[0m\u001b[1;33m(\u001b[0m\u001b[1;33m)\u001b[0m\u001b[1;33m\u001b[0m\u001b[1;33m\u001b[0m\u001b[0m\n\u001b[1;32m----> 2\u001b[1;33m \u001b[0mplt\u001b[0m\u001b[1;33m.\u001b[0m\u001b[0mhist\u001b[0m\u001b[1;33m(\u001b[0m\u001b[0mholdParamsB\u001b[0m\u001b[1;33m,\u001b[0m \u001b[0mbins\u001b[0m\u001b[1;33m=\u001b[0m\u001b[1;36m30\u001b[0m\u001b[1;33m)\u001b[0m\u001b[1;33m\u001b[0m\u001b[1;33m\u001b[0m\u001b[0m\n\u001b[0m\u001b[0;32m      3\u001b[0m \u001b[0max\u001b[0m\u001b[1;33m.\u001b[0m\u001b[0maxvline\u001b[0m\u001b[1;33m(\u001b[0m\u001b[0mpoptL\u001b[0m\u001b[1;33m[\u001b[0m\u001b[1;36m0\u001b[0m\u001b[1;33m]\u001b[0m\u001b[1;33m,\u001b[0m \u001b[0mcolor\u001b[0m\u001b[1;33m=\u001b[0m\u001b[1;34m'r'\u001b[0m\u001b[1;33m)\u001b[0m\u001b[1;33m\u001b[0m\u001b[1;33m\u001b[0m\u001b[0m\n\u001b[0;32m      4\u001b[0m \u001b[0max\u001b[0m\u001b[1;33m.\u001b[0m\u001b[0maxvline\u001b[0m\u001b[1;33m(\u001b[0m\u001b[0mnp\u001b[0m\u001b[1;33m.\u001b[0m\u001b[0mpercentile\u001b[0m\u001b[1;33m(\u001b[0m\u001b[0mholdParamsB_R\u001b[0m\u001b[1;33m,\u001b[0m \u001b[1;36m2.5\u001b[0m\u001b[1;33m)\u001b[0m\u001b[1;33m,\u001b[0m \u001b[0mcolor\u001b[0m\u001b[1;33m=\u001b[0m\u001b[1;34m'b'\u001b[0m\u001b[1;33m,\u001b[0m \u001b[0mlabel\u001b[0m\u001b[1;33m=\u001b[0m\u001b[1;34m'95% CI'\u001b[0m\u001b[1;33m)\u001b[0m\u001b[1;33m\u001b[0m\u001b[1;33m\u001b[0m\u001b[0m\n\u001b[0;32m      5\u001b[0m \u001b[0max\u001b[0m\u001b[1;33m.\u001b[0m\u001b[0maxvline\u001b[0m\u001b[1;33m(\u001b[0m\u001b[0mnp\u001b[0m\u001b[1;33m.\u001b[0m\u001b[0mpercentile\u001b[0m\u001b[1;33m(\u001b[0m\u001b[0mholdParamsB_R\u001b[0m\u001b[1;33m,\u001b[0m \u001b[1;36m97.5\u001b[0m\u001b[1;33m)\u001b[0m\u001b[1;33m,\u001b[0m \u001b[0mcolor\u001b[0m\u001b[1;33m=\u001b[0m\u001b[1;34m'b'\u001b[0m\u001b[1;33m)\u001b[0m\u001b[1;33m\u001b[0m\u001b[1;33m\u001b[0m\u001b[0m\n",
      "\u001b[1;31mNameError\u001b[0m: name 'holdParamsB' is not defined"
     ]
    },
    {
     "data": {
      "image/png": "[encoded data removed]",
      "text/plain": [
       "<Figure size 432x288 with 1 Axes>"
      ]
     },
     "metadata": {
      "needs_background": "light"
     },
     "output_type": "display_data"
    }
   ],
   "source": [
    "fig,ax = plt.subplots()\n",
    "plt.hist(holdParamsB, bins=30)\n",
    "ax.axvline(poptL[0], color='r')\n",
    "ax.axvline(np.percentile(holdParamsB_R, 2.5), color='b', label='95% CI')\n",
    "ax.axvline(np.percentile(holdParamsB_R, 97.5), color='b')"
   ]
  },
  {
   "cell_type": "code",
   "execution_count": 118,
   "metadata": {},
   "outputs": [
    {
     "data": {
      "text/plain": [
       "<matplotlib.lines.Line2D at 0x25f40637ec8>"
      ]
     },
     "execution_count": 118,
     "metadata": {},
     "output_type": "execute_result"
    },
    {
     "data": {
      "image/png": "[encoded data removed]",
      "text/plain": [
       "<Figure size 432x288 with 1 Axes>"
      ]
     },
     "metadata": {
      "needs_background": "light"
     },
     "output_type": "display_data"
    }
   ],
   "source": [
    "fig,ax = plt.subplots()\n",
    "plt.hist(holdParamsA, bins=30)\n",
    "ax.axvline(poptL[0], color='r')\n",
    "ax.axvline(np.percentile(holdParamsA, 2.5), color='b', label='95% CI')\n",
    "ax.axvline(np.percentile(holdParamsA, 97.5), color='b')"
   ]
  },
  {
   "cell_type": "code",
   "execution_count": 119,
   "metadata": {},
   "outputs": [
    {
     "data": {
      "text/plain": [
       "<matplotlib.collections.PolyCollection at 0x25f40692b88>"
      ]
     },
     "execution_count": 119,
     "metadata": {},
     "output_type": "execute_result"
    },
    {
     "data": {
      "image/png": "[encoded data removed]",
      "text/plain": [
       "<Figure size 432x288 with 1 Axes>"
      ]
     },
     "metadata": {
      "needs_background": "light"
     },
     "output_type": "display_data"
    }
   ],
   "source": [
    "from matplotlib import pyplot as plt\n",
    "import numpy as np\n",
    "\n",
    "#some example data\n",
    "x= np.linspace(0.1, 9.9, 20)\n",
    "y = 3.0 * x\n",
    "#some confidence interval\n",
    "ci = 1.96 * np.std(y)/np.mean(y)\n",
    "\n",
    "fig, ax = plt.subplots()\n",
    "ax.plot(x,y)\n",
    "ax.fill_between(x, (y-ci), (y+ci), color='b', alpha=.1)"
   ]
  },
  {
   "cell_type": "code",
   "execution_count": 120,
   "metadata": {},
   "outputs": [
    {
     "data": {
      "text/plain": [
       "1.1658813806233508"
      ]
     },
     "execution_count": 120,
     "metadata": {},
     "output_type": "execute_result"
    }
   ],
   "source": [
    "ci"
   ]
  },
  {
   "cell_type": "code",
   "execution_count": 121,
   "metadata": {},
   "outputs": [
    {
     "ename": "IndentationError",
     "evalue": "unexpected indent (<ipython-input-121-ed35116c5d5d>, line 2)",
     "output_type": "error",
     "traceback": [
      "\u001b[1;36m  File \u001b[1;32m\"<ipython-input-121-ed35116c5d5d>\"\u001b[1;36m, line \u001b[1;32m2\u001b[0m\n\u001b[1;33m    kt = responseDf.times[trial] # time of keypress\u001b[0m\n\u001b[1;37m    ^\u001b[0m\n\u001b[1;31mIndentationError\u001b[0m\u001b[1;31m:\u001b[0m unexpected indent\n"
     ]
    }
   ],
   "source": [
    "ke = responseDf.keyboardEvent[trial] # keyboard event\n",
    "        kt = responseDf.times[trial] # time of keypress\n",
    "        \n",
    "        try: # numEvents is the number of key events stored in ke; if it's a single value then might not have length\n",
    "            numEvents = len(ke)\n",
    "        except:\n",
    "            numEvents = 1\n",
    "\n",
    "        keyDur = np.zeros((numEvents))\n",
    "        noResponseDur = []\n",
    "        keyDurA = np.zeros((numEvents, len(downEvents)))\n",
    "        #print(numEvents)\n",
    "        #print(ke)\n",
    "        \n",
    "        try:\n",
    "            firstKeyEvent = ke[0]\n",
    "            firstKeyTime = kt[0]\n",
    "        except:\n",
    "            print('no key response!?', trial, ke, kt)\n",
    "            firstKeyEvent = np.nan\n",
    "            firstKeyTime = np.nan\n",
    "        \n",
    "        for eventIn in range(numEvents):\n",
    "            # print(eventIn)\n",
    "            if ke == 99: # end of the trial\n",
    "                event = 99\n",
    "            else:\n",
    "                event = ke[eventIn]\n",
    "                time1 = kt[eventIn]\n",
    "                \n",
    "        \n",
    "        \n",
    "                if event in downEvents:\n",
    "\n",
    "                    if event == 1: # RED down\n",
    "                        upKey = 2\n",
    "                    elif event == 3: # BLUE down\n",
    "                        upKey = 4\n",
    "                    else:\n",
    "                        upKey = 6\n",
    "                        print('Down key not found...')\n",
    "                        \n",
    "#                     if 'time2' in locals() and time2 < time1:\n",
    "#                         noResponseDuration = time1 - time2\n",
    "#                         noResponseDur.append(noResponseDuration)\n",
    "#                         print('time2: ', time2, 'time1: ', time1, 'time1 by KT:', kt[eventIn], 'event index:', eventIn, 'tempKT: ', tempKt)\n",
    "\n",
    "                    foundUpKey = 0 # False\n",
    "                    tempKt = np.array(kt)\n",
    "                    tempTimes = tempKt[np.where(tempKt>time1)]\n",
    "                    tempEvents = np.array(ke)\n",
    "                    tempEvents = tempEvents[np.where(tempKt>time1)]\n",
    "                    tempNumEvents = len(tempTimes)\n",
    "                    for j in range(tempNumEvents):#range(numEvents):\n",
    "\n",
    "                        if tempEvents[j] == upKey:\n",
    "                            time2 = tempTimes[j]\n",
    "                            foundUpKey = 1\n",
    "                            break\n",
    "                            \n",
    "                            \n",
    "                            # time 2 will be the start of the blank duration\n",
    "                            blankStart = time2\n",
    "                            if blankStart < 5.0:\n",
    "                                blankEnd = tempTimes[j+1]\n",
    "                                if blankEnd < 5.0:\n",
    "                                    noResponseDuration = blankEnd - blankStart\n",
    "                                    noResponseDur.append(noResponseDuration)\n",
    "                                    print(tempTimes[j+1])\n",
    "\n",
    "\n",
    "                            \n",
    "                    if foundUpKey == 0:\n",
    "\n",
    "                        if ke[-1] == 99: # and usingFullTrialDuration\n",
    "                            time2 = kt[-1] # end of the key times\n",
    "                        else:\n",
    "                            time2 = endTrialTime\n",
    "                            print('Using default trial length')\n",
    "\n",
    "                    keyDur[eventIn] = time2 - time1\n",
    "                    keyDurA[eventIn, int((upKey/2)-1)] = time2 - time1\n",
    "                    \n",
    "                # end if\n",
    "            # end for key event loop\n",
    "        # end if responseDf.trialType[trial] == 0:\n",
    "\n",
    "\n",
    "            checkNegativeTime = np.array([kDur < 0 for kDur in keyDur])\n",
    "            if checkNegativeTime.any():\n",
    "                print(keyDur)\n",
    "                print('D: Negative key durations for trial %d' %(trial+1))\n"
   ]
  },
  {
   "cell_type": "code",
   "execution_count": null,
   "metadata": {},
   "outputs": [],
   "source": []
  }
 ],
 "metadata": {
  "kernelspec": {
   "display_name": "Python 3",
   "language": "python",
   "name": "python3"
  },
  "language_info": {
   "codemirror_mode": {
    "name": "ipython",
    "version": 3
   },
   "file_extension": ".py",
   "mimetype": "text/x-python",
   "name": "python",
   "nbconvert_exporter": "python",
   "pygments_lexer": "ipython3",
   "version": "3.7.7"
  }
 },
 "nbformat": 4,
 "nbformat_minor": 4
}
